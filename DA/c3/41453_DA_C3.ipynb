{
  "nbformat": 4,
  "nbformat_minor": 0,
  "metadata": {
    "colab": {
      "name": "BE1_LP1_P1_41120_DA_R3.ipynb",
      "provenance": [],
      "collapsed_sections": [],
      "toc_visible": true
    },
    "kernelspec": {
      "display_name": "Python 3",
      "language": "python",
      "name": "python3"
    },
    "language_info": {
      "codemirror_mode": {
        "name": "ipython",
        "version": 3
      },
      "file_extension": ".py",
      "mimetype": "text/x-python",
      "name": "python",
      "nbconvert_exporter": "python",
      "pygments_lexer": "ipython3",
      "version": "3.7.6"
    },
    "widgets": {
      "application/vnd.jupyter.widget-state+json": {
        "7fc441ed57c742d38f508b2d2937eafb": {
          "model_module": "@jupyter-widgets/controls",
          "model_name": "IntProgressModel",
          "state": {
            "_view_name": "ProgressView",
            "style": "IPY_MODEL_2bb0ee9c10914bf9833492a0bb38c8d4",
            "_dom_classes": [],
            "description": "Processing: ",
            "_model_name": "IntProgressModel",
            "bar_style": "",
            "max": 13,
            "_view_module": "@jupyter-widgets/controls",
            "_model_module_version": "1.5.0",
            "value": 3,
            "_view_count": null,
            "_view_module_version": "1.5.0",
            "orientation": "horizontal",
            "min": 0,
            "description_tooltip": null,
            "_model_module": "@jupyter-widgets/controls",
            "layout": "IPY_MODEL_d9f81873c5f14e3f9f7f5e86976fbd55"
          }
        },
        "2bb0ee9c10914bf9833492a0bb38c8d4": {
          "model_module": "@jupyter-widgets/controls",
          "model_name": "ProgressStyleModel",
          "state": {
            "_view_name": "StyleView",
            "_model_name": "ProgressStyleModel",
            "description_width": "",
            "_view_module": "@jupyter-widgets/base",
            "_model_module_version": "1.5.0",
            "_view_count": null,
            "_view_module_version": "1.2.0",
            "bar_color": null,
            "_model_module": "@jupyter-widgets/controls"
          }
        },
        "d9f81873c5f14e3f9f7f5e86976fbd55": {
          "model_module": "@jupyter-widgets/base",
          "model_name": "LayoutModel",
          "state": {
            "_view_name": "LayoutView",
            "grid_template_rows": null,
            "right": null,
            "justify_content": null,
            "_view_module": "@jupyter-widgets/base",
            "overflow": null,
            "_model_module_version": "1.2.0",
            "_view_count": null,
            "flex_flow": null,
            "width": null,
            "min_width": null,
            "border": null,
            "align_items": null,
            "bottom": null,
            "_model_module": "@jupyter-widgets/base",
            "top": null,
            "grid_column": null,
            "overflow_y": null,
            "overflow_x": null,
            "grid_auto_flow": null,
            "grid_area": null,
            "grid_template_columns": null,
            "flex": null,
            "_model_name": "LayoutModel",
            "justify_items": null,
            "grid_row": null,
            "max_height": null,
            "align_content": null,
            "visibility": null,
            "align_self": null,
            "height": null,
            "min_height": null,
            "padding": null,
            "grid_auto_rows": null,
            "grid_gap": null,
            "max_width": null,
            "order": null,
            "_view_module_version": "1.2.0",
            "grid_template_areas": null,
            "object_position": null,
            "object_fit": null,
            "grid_auto_columns": null,
            "margin": null,
            "display": null,
            "left": null
          }
        },
        "2b82dfe60d7246b5b863bbb01231d902": {
          "model_module": "@jupyter-widgets/controls",
          "model_name": "TextModel",
          "state": {
            "_view_name": "TextView",
            "style": "IPY_MODEL_5d2e1d457d65418fa01c0f5529cc18ef",
            "_dom_classes": [],
            "description": "",
            "_model_name": "TextModel",
            "placeholder": "​",
            "_view_module": "@jupyter-widgets/controls",
            "_model_module_version": "1.5.0",
            "value": "Following data types have been inferred automatically, if they are correct press enter to continue or type 'quit' otherwise.",
            "_view_count": null,
            "disabled": false,
            "_view_module_version": "1.5.0",
            "continuous_update": true,
            "description_tooltip": null,
            "_model_module": "@jupyter-widgets/controls",
            "layout": "IPY_MODEL_0f40fb0b185d4c25b2e48bf2b45599e0"
          }
        },
        "5d2e1d457d65418fa01c0f5529cc18ef": {
          "model_module": "@jupyter-widgets/controls",
          "model_name": "DescriptionStyleModel",
          "state": {
            "_view_name": "StyleView",
            "_model_name": "DescriptionStyleModel",
            "description_width": "",
            "_view_module": "@jupyter-widgets/base",
            "_model_module_version": "1.5.0",
            "_view_count": null,
            "_view_module_version": "1.2.0",
            "_model_module": "@jupyter-widgets/controls"
          }
        },
        "0f40fb0b185d4c25b2e48bf2b45599e0": {
          "model_module": "@jupyter-widgets/base",
          "model_name": "LayoutModel",
          "state": {
            "_view_name": "LayoutView",
            "grid_template_rows": null,
            "right": null,
            "justify_content": null,
            "_view_module": "@jupyter-widgets/base",
            "overflow": null,
            "_model_module_version": "1.2.0",
            "_view_count": null,
            "flex_flow": null,
            "width": "100%",
            "min_width": null,
            "border": null,
            "align_items": null,
            "bottom": null,
            "_model_module": "@jupyter-widgets/base",
            "top": null,
            "grid_column": null,
            "overflow_y": null,
            "overflow_x": null,
            "grid_auto_flow": null,
            "grid_area": null,
            "grid_template_columns": null,
            "flex": null,
            "_model_name": "LayoutModel",
            "justify_items": null,
            "grid_row": null,
            "max_height": null,
            "align_content": null,
            "visibility": null,
            "align_self": null,
            "height": null,
            "min_height": null,
            "padding": null,
            "grid_auto_rows": null,
            "grid_gap": null,
            "max_width": null,
            "order": null,
            "_view_module_version": "1.2.0",
            "grid_template_areas": null,
            "object_position": null,
            "object_fit": null,
            "grid_auto_columns": null,
            "margin": null,
            "display": null,
            "left": null
          }
        },
        "ef7e6b7fc0c34ea79c02a35b77afc394": {
          "model_module": "@jupyter-widgets/controls",
          "model_name": "IntProgressModel",
          "state": {
            "_view_name": "ProgressView",
            "style": "IPY_MODEL_5886f8179d00487891a028e0e512f371",
            "_dom_classes": [],
            "description": "Processing: ",
            "_model_name": "IntProgressModel",
            "bar_style": "",
            "max": 251,
            "_view_module": "@jupyter-widgets/controls",
            "_model_module_version": "1.5.0",
            "value": 249,
            "_view_count": null,
            "_view_module_version": "1.5.0",
            "orientation": "horizontal",
            "min": 0,
            "description_tooltip": null,
            "_model_module": "@jupyter-widgets/controls",
            "layout": "IPY_MODEL_f7a9ca718df04255adf445d993060d65"
          }
        },
        "5886f8179d00487891a028e0e512f371": {
          "model_module": "@jupyter-widgets/controls",
          "model_name": "ProgressStyleModel",
          "state": {
            "_view_name": "StyleView",
            "_model_name": "ProgressStyleModel",
            "description_width": "",
            "_view_module": "@jupyter-widgets/base",
            "_model_module_version": "1.5.0",
            "_view_count": null,
            "_view_module_version": "1.2.0",
            "bar_color": null,
            "_model_module": "@jupyter-widgets/controls"
          }
        },
        "f7a9ca718df04255adf445d993060d65": {
          "model_module": "@jupyter-widgets/base",
          "model_name": "LayoutModel",
          "state": {
            "_view_name": "LayoutView",
            "grid_template_rows": null,
            "right": null,
            "justify_content": null,
            "_view_module": "@jupyter-widgets/base",
            "overflow": null,
            "_model_module_version": "1.2.0",
            "_view_count": null,
            "flex_flow": null,
            "width": null,
            "min_width": null,
            "border": null,
            "align_items": null,
            "bottom": null,
            "_model_module": "@jupyter-widgets/base",
            "top": null,
            "grid_column": null,
            "overflow_y": null,
            "overflow_x": null,
            "grid_auto_flow": null,
            "grid_area": null,
            "grid_template_columns": null,
            "flex": null,
            "_model_name": "LayoutModel",
            "justify_items": null,
            "grid_row": null,
            "max_height": null,
            "align_content": null,
            "visibility": null,
            "align_self": null,
            "height": null,
            "min_height": null,
            "padding": null,
            "grid_auto_rows": null,
            "grid_gap": null,
            "max_width": null,
            "order": null,
            "_view_module_version": "1.2.0",
            "grid_template_areas": null,
            "object_position": null,
            "object_fit": null,
            "grid_auto_columns": null,
            "margin": null,
            "display": null,
            "left": null
          }
        }
      }
    }
  },
  "cells": [
    {
      "cell_type": "markdown",
      "metadata": {
        "id": "OO2TeGUtuGDO"
      },
      "source": [
        "##**Bigmart Sales Analysis**"
      ]
    },
    {
      "cell_type": "code",
      "metadata": {
        "id": "mH1MU-H6apsI"
      },
      "source": [
        "import pandas as pd\n",
        "import seaborn as sns\n",
        "import matplotlib.pyplot as plt"
      ],
      "execution_count": 55,
      "outputs": []
    },
    {
      "cell_type": "code",
      "metadata": {
        "id": "aPyvFLjmbfIj",
        "outputId": "3955effb-abc1-4629-be3c-68319154e811",
        "colab": {
          "base_uri": "https://localhost:8080/",
          "height": 295
        }
      },
      "source": [
        "!wget \"https://github.com/akki8087/Big-Mart-Sales/raw/master/Train.csv\""
      ],
      "execution_count": 54,
      "outputs": [
        {
          "output_type": "stream",
          "text": [
            "--2020-10-01 06:22:31--  https://github.com/akki8087/Big-Mart-Sales/raw/master/Train.csv\n",
            "Resolving github.com (github.com)... 140.82.121.3\n",
            "Connecting to github.com (github.com)|140.82.121.3|:443... connected.\n",
            "HTTP request sent, awaiting response... 302 Found\n",
            "Location: https://raw.githubusercontent.com/akki8087/Big-Mart-Sales/master/Train.csv [following]\n",
            "--2020-10-01 06:22:32--  https://raw.githubusercontent.com/akki8087/Big-Mart-Sales/master/Train.csv\n",
            "Resolving raw.githubusercontent.com (raw.githubusercontent.com)... 151.101.0.133, 151.101.64.133, 151.101.128.133, ...\n",
            "Connecting to raw.githubusercontent.com (raw.githubusercontent.com)|151.101.0.133|:443... connected.\n",
            "HTTP request sent, awaiting response... 200 OK\n",
            "Length: 861013 (841K) [text/plain]\n",
            "Saving to: ‘Train.csv.1’\n",
            "\n",
            "Train.csv.1         100%[===================>] 840.83K  --.-KB/s    in 0.04s   \n",
            "\n",
            "2020-10-01 06:22:32 (21.0 MB/s) - ‘Train.csv.1’ saved [861013/861013]\n",
            "\n"
          ],
          "name": "stdout"
        }
      ]
    },
    {
      "cell_type": "markdown",
      "metadata": {
        "id": "90XleihuumI_"
      },
      "source": [
        "### Read the Dataset"
      ]
    },
    {
      "cell_type": "code",
      "metadata": {
        "id": "EQV3xTgzbiXn"
      },
      "source": [
        "df = pd.read_csv('Train.csv')"
      ],
      "execution_count": null,
      "outputs": []
    },
    {
      "cell_type": "code",
      "metadata": {
        "id": "MG4bY6qHca9O",
        "outputId": "42cfbca8-0e1c-4a2a-adde-30c9c027d229",
        "colab": {
          "base_uri": "https://localhost:8080/",
          "height": 313
        }
      },
      "source": [
        "df.head()"
      ],
      "execution_count": null,
      "outputs": [
        {
          "output_type": "execute_result",
          "data": {
            "text/html": [
              "<div>\n",
              "<style scoped>\n",
              "    .dataframe tbody tr th:only-of-type {\n",
              "        vertical-align: middle;\n",
              "    }\n",
              "\n",
              "    .dataframe tbody tr th {\n",
              "        vertical-align: top;\n",
              "    }\n",
              "\n",
              "    .dataframe thead th {\n",
              "        text-align: right;\n",
              "    }\n",
              "</style>\n",
              "<table border=\"1\" class=\"dataframe\">\n",
              "  <thead>\n",
              "    <tr style=\"text-align: right;\">\n",
              "      <th></th>\n",
              "      <th>Item_Identifier</th>\n",
              "      <th>Item_Weight</th>\n",
              "      <th>Item_Fat_Content</th>\n",
              "      <th>Item_Visibility</th>\n",
              "      <th>Item_Type</th>\n",
              "      <th>Item_MRP</th>\n",
              "      <th>Outlet_Identifier</th>\n",
              "      <th>Outlet_Establishment_Year</th>\n",
              "      <th>Outlet_Size</th>\n",
              "      <th>Outlet_Location_Type</th>\n",
              "      <th>Outlet_Type</th>\n",
              "      <th>Item_Outlet_Sales</th>\n",
              "    </tr>\n",
              "  </thead>\n",
              "  <tbody>\n",
              "    <tr>\n",
              "      <th>0</th>\n",
              "      <td>FDA15</td>\n",
              "      <td>9.30</td>\n",
              "      <td>Low Fat</td>\n",
              "      <td>0.016047</td>\n",
              "      <td>Dairy</td>\n",
              "      <td>249.8092</td>\n",
              "      <td>OUT049</td>\n",
              "      <td>1999</td>\n",
              "      <td>Medium</td>\n",
              "      <td>Tier 1</td>\n",
              "      <td>Supermarket Type1</td>\n",
              "      <td>3735.1380</td>\n",
              "    </tr>\n",
              "    <tr>\n",
              "      <th>1</th>\n",
              "      <td>DRC01</td>\n",
              "      <td>5.92</td>\n",
              "      <td>Regular</td>\n",
              "      <td>0.019278</td>\n",
              "      <td>Soft Drinks</td>\n",
              "      <td>48.2692</td>\n",
              "      <td>OUT018</td>\n",
              "      <td>2009</td>\n",
              "      <td>Medium</td>\n",
              "      <td>Tier 3</td>\n",
              "      <td>Supermarket Type2</td>\n",
              "      <td>443.4228</td>\n",
              "    </tr>\n",
              "    <tr>\n",
              "      <th>2</th>\n",
              "      <td>FDN15</td>\n",
              "      <td>17.50</td>\n",
              "      <td>Low Fat</td>\n",
              "      <td>0.016760</td>\n",
              "      <td>Meat</td>\n",
              "      <td>141.6180</td>\n",
              "      <td>OUT049</td>\n",
              "      <td>1999</td>\n",
              "      <td>Medium</td>\n",
              "      <td>Tier 1</td>\n",
              "      <td>Supermarket Type1</td>\n",
              "      <td>2097.2700</td>\n",
              "    </tr>\n",
              "    <tr>\n",
              "      <th>3</th>\n",
              "      <td>FDX07</td>\n",
              "      <td>19.20</td>\n",
              "      <td>Regular</td>\n",
              "      <td>0.000000</td>\n",
              "      <td>Fruits and Vegetables</td>\n",
              "      <td>182.0950</td>\n",
              "      <td>OUT010</td>\n",
              "      <td>1998</td>\n",
              "      <td>NaN</td>\n",
              "      <td>Tier 3</td>\n",
              "      <td>Grocery Store</td>\n",
              "      <td>732.3800</td>\n",
              "    </tr>\n",
              "    <tr>\n",
              "      <th>4</th>\n",
              "      <td>NCD19</td>\n",
              "      <td>8.93</td>\n",
              "      <td>Low Fat</td>\n",
              "      <td>0.000000</td>\n",
              "      <td>Household</td>\n",
              "      <td>53.8614</td>\n",
              "      <td>OUT013</td>\n",
              "      <td>1987</td>\n",
              "      <td>High</td>\n",
              "      <td>Tier 3</td>\n",
              "      <td>Supermarket Type1</td>\n",
              "      <td>994.7052</td>\n",
              "    </tr>\n",
              "  </tbody>\n",
              "</table>\n",
              "</div>"
            ],
            "text/plain": [
              "  Item_Identifier  Item_Weight  ...        Outlet_Type  Item_Outlet_Sales\n",
              "0           FDA15         9.30  ...  Supermarket Type1          3735.1380\n",
              "1           DRC01         5.92  ...  Supermarket Type2           443.4228\n",
              "2           FDN15        17.50  ...  Supermarket Type1          2097.2700\n",
              "3           FDX07        19.20  ...      Grocery Store           732.3800\n",
              "4           NCD19         8.93  ...  Supermarket Type1           994.7052\n",
              "\n",
              "[5 rows x 12 columns]"
            ]
          },
          "metadata": {
            "tags": []
          },
          "execution_count": 30
        }
      ]
    },
    {
      "cell_type": "code",
      "metadata": {
        "id": "-jio1SpHdJYd",
        "outputId": "ffad1cb2-0633-4b80-ad18-d34d838d77b5",
        "colab": {
          "base_uri": "https://localhost:8080/",
          "height": 347
        }
      },
      "source": [
        "df.info()"
      ],
      "execution_count": null,
      "outputs": [
        {
          "output_type": "stream",
          "text": [
            "<class 'pandas.core.frame.DataFrame'>\n",
            "RangeIndex: 8523 entries, 0 to 8522\n",
            "Data columns (total 12 columns):\n",
            " #   Column                     Non-Null Count  Dtype  \n",
            "---  ------                     --------------  -----  \n",
            " 0   Item_Identifier            8523 non-null   object \n",
            " 1   Item_Weight                7060 non-null   float64\n",
            " 2   Item_Fat_Content           8523 non-null   object \n",
            " 3   Item_Visibility            8523 non-null   float64\n",
            " 4   Item_Type                  8523 non-null   object \n",
            " 5   Item_MRP                   8523 non-null   float64\n",
            " 6   Outlet_Identifier          8523 non-null   object \n",
            " 7   Outlet_Establishment_Year  8523 non-null   int64  \n",
            " 8   Outlet_Size                6113 non-null   object \n",
            " 9   Outlet_Location_Type       8523 non-null   object \n",
            " 10  Outlet_Type                8523 non-null   object \n",
            " 11  Item_Outlet_Sales          8523 non-null   float64\n",
            "dtypes: float64(4), int64(1), object(7)\n",
            "memory usage: 799.2+ KB\n"
          ],
          "name": "stdout"
        }
      ]
    },
    {
      "cell_type": "markdown",
      "metadata": {
        "id": "Idf-G7mv15Lm"
      },
      "source": [
        "###Handling Redundant Values"
      ]
    },
    {
      "cell_type": "code",
      "metadata": {
        "id": "-JtoihqaAusX",
        "outputId": "7b9625c3-2bac-43cb-f283-d5c7809425c2",
        "colab": {
          "base_uri": "https://localhost:8080/",
          "height": 34
        }
      },
      "source": [
        "print(\"Unique Values in Item_Fat_Content before modification - \",df['Item_Fat_Content'].unique())"
      ],
      "execution_count": null,
      "outputs": [
        {
          "output_type": "stream",
          "text": [
            "Unique Values in Item_Fat_Content before modification -  ['Low Fat' 'Regular' 'low fat' 'LF' 'reg']\n"
          ],
          "name": "stdout"
        }
      ]
    },
    {
      "cell_type": "code",
      "metadata": {
        "id": "olC_KpziA69r",
        "outputId": "23f3f663-d44d-4c16-bf74-0786b9dfff19",
        "colab": {
          "base_uri": "https://localhost:8080/",
          "height": 86
        }
      },
      "source": [
        "df['Item_Type'].unique()"
      ],
      "execution_count": null,
      "outputs": [
        {
          "output_type": "execute_result",
          "data": {
            "text/plain": [
              "array(['Dairy', 'Soft Drinks', 'Meat', 'Fruits and Vegetables',\n",
              "       'Household', 'Baking Goods', 'Snack Foods', 'Frozen Foods',\n",
              "       'Breakfast', 'Health and Hygiene', 'Hard Drinks', 'Canned',\n",
              "       'Breads', 'Starchy Foods', 'Others', 'Seafood'], dtype=object)"
            ]
          },
          "metadata": {
            "tags": []
          },
          "execution_count": 33
        }
      ]
    },
    {
      "cell_type": "code",
      "metadata": {
        "id": "Mzy8SJjl6kJZ"
      },
      "source": [
        "df['Item_Fat_Content'].replace(to_replace='low fat', value='Low Fat', inplace=True)\n",
        "df['Item_Fat_Content'].replace(to_replace='LF', value='Low Fat', inplace=True)\n",
        "df['Item_Fat_Content'].replace(to_replace='reg', value='Regular', inplace=True)"
      ],
      "execution_count": null,
      "outputs": []
    },
    {
      "cell_type": "code",
      "metadata": {
        "id": "zRj_uTAUBcx5",
        "outputId": "359b7e07-9f01-4491-abc9-81244df2fc97",
        "colab": {
          "base_uri": "https://localhost:8080/",
          "height": 34
        }
      },
      "source": [
        "print(\"Unique Values in Item_Fat_Content after modification - \",df['Item_Fat_Content'].unique())"
      ],
      "execution_count": null,
      "outputs": [
        {
          "output_type": "stream",
          "text": [
            "Unique Values in Item_Fat_Content after modification -  ['Low Fat' 'Regular']\n"
          ],
          "name": "stdout"
        }
      ]
    },
    {
      "cell_type": "markdown",
      "metadata": {
        "id": "CJvwReJrvAEr"
      },
      "source": [
        "### Perform One Hot encoding"
      ]
    },
    {
      "cell_type": "code",
      "metadata": {
        "id": "am-EUDaLwCVO"
      },
      "source": [
        "col_enc = ['Item_Identifier', 'Item_Fat_Content', 'Item_Type', 'Outlet_Identifier',\n",
        "           'Outlet_Location_Type', 'Outlet_Type']"
      ],
      "execution_count": null,
      "outputs": []
    },
    {
      "cell_type": "code",
      "metadata": {
        "id": "-w1VutWQgvgA",
        "outputId": "981edab8-6e41-4b5e-b179-abe798ef7860",
        "colab": {
          "base_uri": "https://localhost:8080/",
          "height": 141
        }
      },
      "source": [
        "from sklearn.preprocessing import LabelEncoder\n",
        "\n",
        "for x in col_enc:\n",
        "  lb_encoder = LabelEncoder()\n",
        "  df[x] = lb_encoder.fit_transform(df[x])\n",
        "  le_name_mapping = dict(zip(lb_encoder.classes_, lb_encoder.transform(lb_encoder.classes_)))\n",
        "  print(le_name_mapping)\n",
        "\n",
        "\n"
      ],
      "execution_count": null,
      "outputs": [
        {
          "output_type": "stream",
          "text": [
            "{'DRA12': 0, 'DRA24': 1, 'DRA59': 2, 'DRB01': 3, 'DRB13': 4, 'DRB24': 5, 'DRB25': 6, 'DRB48': 7, 'DRC01': 8, 'DRC12': 9, 'DRC13': 10, 'DRC24': 11, 'DRC25': 12, 'DRC27': 13, 'DRC36': 14, 'DRC49': 15, 'DRD01': 16, 'DRD12': 17, 'DRD13': 18, 'DRD15': 19, 'DRD24': 20, 'DRD25': 21, 'DRD27': 22, 'DRD37': 23, 'DRD49': 24, 'DRD60': 25, 'DRE01': 26, 'DRE03': 27, 'DRE12': 28, 'DRE13': 29, 'DRE15': 30, 'DRE25': 31, 'DRE27': 32, 'DRE37': 33, 'DRE48': 34, 'DRE49': 35, 'DRE60': 36, 'DRF01': 37, 'DRF03': 38, 'DRF13': 39, 'DRF15': 40, 'DRF23': 41, 'DRF25': 42, 'DRF27': 43, 'DRF36': 44, 'DRF37': 45, 'DRF48': 46, 'DRF49': 47, 'DRF51': 48, 'DRF60': 49, 'DRG01': 50, 'DRG03': 51, 'DRG11': 52, 'DRG13': 53, 'DRG15': 54, 'DRG23': 55, 'DRG25': 56, 'DRG27': 57, 'DRG36': 58, 'DRG37': 59, 'DRG39': 60, 'DRG48': 61, 'DRG49': 62, 'DRG51': 63, 'DRH01': 64, 'DRH03': 65, 'DRH11': 66, 'DRH13': 67, 'DRH15': 68, 'DRH23': 69, 'DRH25': 70, 'DRH36': 71, 'DRH37': 72, 'DRH39': 73, 'DRH49': 74, 'DRH51': 75, 'DRH59': 76, 'DRI01': 77, 'DRI03': 78, 'DRI11': 79, 'DRI13': 80, 'DRI23': 81, 'DRI25': 82, 'DRI37': 83, 'DRI39': 84, 'DRI47': 85, 'DRI49': 86, 'DRI51': 87, 'DRI59': 88, 'DRJ01': 89, 'DRJ11': 90, 'DRJ13': 91, 'DRJ23': 92, 'DRJ24': 93, 'DRJ25': 94, 'DRJ35': 95, 'DRJ37': 96, 'DRJ39': 97, 'DRJ47': 98, 'DRJ49': 99, 'DRJ51': 100, 'DRJ59': 101, 'DRK01': 102, 'DRK11': 103, 'DRK12': 104, 'DRK13': 105, 'DRK23': 106, 'DRK35': 107, 'DRK37': 108, 'DRK39': 109, 'DRK47': 110, 'DRK49': 111, 'DRK59': 112, 'DRL01': 113, 'DRL11': 114, 'DRL23': 115, 'DRL35': 116, 'DRL37': 117, 'DRL47': 118, 'DRL49': 119, 'DRL59': 120, 'DRL60': 121, 'DRM11': 122, 'DRM23': 123, 'DRM35': 124, 'DRM37': 125, 'DRM47': 126, 'DRM48': 127, 'DRM49': 128, 'DRM59': 129, 'DRN11': 130, 'DRN35': 131, 'DRN36': 132, 'DRN37': 133, 'DRN47': 134, 'DRN59': 135, 'DRO35': 136, 'DRO47': 137, 'DRO59': 138, 'DRP35': 139, 'DRP47': 140, 'DRQ35': 141, 'DRY23': 142, 'DRZ11': 143, 'DRZ24': 144, 'FDA01': 145, 'FDA02': 146, 'FDA03': 147, 'FDA04': 148, 'FDA07': 149, 'FDA08': 150, 'FDA09': 151, 'FDA10': 152, 'FDA11': 153, 'FDA13': 154, 'FDA14': 155, 'FDA15': 156, 'FDA16': 157, 'FDA19': 158, 'FDA20': 159, 'FDA21': 160, 'FDA22': 161, 'FDA23': 162, 'FDA25': 163, 'FDA26': 164, 'FDA27': 165, 'FDA28': 166, 'FDA31': 167, 'FDA32': 168, 'FDA33': 169, 'FDA34': 170, 'FDA35': 171, 'FDA36': 172, 'FDA37': 173, 'FDA38': 174, 'FDA39': 175, 'FDA40': 176, 'FDA43': 177, 'FDA44': 178, 'FDA45': 179, 'FDA46': 180, 'FDA47': 181, 'FDA48': 182, 'FDA49': 183, 'FDA50': 184, 'FDA51': 185, 'FDA52': 186, 'FDA55': 187, 'FDA56': 188, 'FDA57': 189, 'FDA58': 190, 'FDB02': 191, 'FDB03': 192, 'FDB04': 193, 'FDB05': 194, 'FDB08': 195, 'FDB09': 196, 'FDB10': 197, 'FDB11': 198, 'FDB12': 199, 'FDB14': 200, 'FDB15': 201, 'FDB16': 202, 'FDB17': 203, 'FDB20': 204, 'FDB21': 205, 'FDB22': 206, 'FDB23': 207, 'FDB26': 208, 'FDB27': 209, 'FDB28': 210, 'FDB29': 211, 'FDB32': 212, 'FDB33': 213, 'FDB34': 214, 'FDB35': 215, 'FDB36': 216, 'FDB37': 217, 'FDB38': 218, 'FDB39': 219, 'FDB40': 220, 'FDB41': 221, 'FDB44': 222, 'FDB45': 223, 'FDB46': 224, 'FDB47': 225, 'FDB49': 226, 'FDB50': 227, 'FDB51': 228, 'FDB52': 229, 'FDB53': 230, 'FDB56': 231, 'FDB57': 232, 'FDB58': 233, 'FDB59': 234, 'FDB60': 235, 'FDC02': 236, 'FDC03': 237, 'FDC04': 238, 'FDC05': 239, 'FDC08': 240, 'FDC09': 241, 'FDC10': 242, 'FDC11': 243, 'FDC14': 244, 'FDC15': 245, 'FDC16': 246, 'FDC17': 247, 'FDC20': 248, 'FDC21': 249, 'FDC22': 250, 'FDC23': 251, 'FDC26': 252, 'FDC28': 253, 'FDC29': 254, 'FDC32': 255, 'FDC33': 256, 'FDC34': 257, 'FDC35': 258, 'FDC37': 259, 'FDC38': 260, 'FDC39': 261, 'FDC40': 262, 'FDC41': 263, 'FDC44': 264, 'FDC45': 265, 'FDC46': 266, 'FDC47': 267, 'FDC48': 268, 'FDC50': 269, 'FDC51': 270, 'FDC52': 271, 'FDC53': 272, 'FDC56': 273, 'FDC57': 274, 'FDC58': 275, 'FDC59': 276, 'FDC60': 277, 'FDD02': 278, 'FDD03': 279, 'FDD04': 280, 'FDD05': 281, 'FDD08': 282, 'FDD09': 283, 'FDD10': 284, 'FDD11': 285, 'FDD14': 286, 'FDD16': 287, 'FDD17': 288, 'FDD20': 289, 'FDD21': 290, 'FDD22': 291, 'FDD23': 292, 'FDD26': 293, 'FDD28': 294, 'FDD29': 295, 'FDD32': 296, 'FDD33': 297, 'FDD34': 298, 'FDD35': 299, 'FDD36': 300, 'FDD38': 301, 'FDD39': 302, 'FDD40': 303, 'FDD41': 304, 'FDD44': 305, 'FDD45': 306, 'FDD46': 307, 'FDD47': 308, 'FDD48': 309, 'FDD50': 310, 'FDD51': 311, 'FDD52': 312, 'FDD53': 313, 'FDD56': 314, 'FDD57': 315, 'FDD58': 316, 'FDD59': 317, 'FDE02': 318, 'FDE04': 319, 'FDE05': 320, 'FDE08': 321, 'FDE09': 322, 'FDE10': 323, 'FDE11': 324, 'FDE14': 325, 'FDE16': 326, 'FDE17': 327, 'FDE20': 328, 'FDE21': 329, 'FDE22': 330, 'FDE23': 331, 'FDE24': 332, 'FDE26': 333, 'FDE28': 334, 'FDE29': 335, 'FDE32': 336, 'FDE33': 337, 'FDE34': 338, 'FDE35': 339, 'FDE36': 340, 'FDE38': 341, 'FDE39': 342, 'FDE40': 343, 'FDE41': 344, 'FDE44': 345, 'FDE45': 346, 'FDE46': 347, 'FDE47': 348, 'FDE50': 349, 'FDE51': 350, 'FDE52': 351, 'FDE53': 352, 'FDE56': 353, 'FDE57': 354, 'FDE58': 355, 'FDE59': 356, 'FDF02': 357, 'FDF04': 358, 'FDF05': 359, 'FDF08': 360, 'FDF09': 361, 'FDF10': 362, 'FDF11': 363, 'FDF12': 364, 'FDF14': 365, 'FDF16': 366, 'FDF17': 367, 'FDF20': 368, 'FDF21': 369, 'FDF22': 370, 'FDF24': 371, 'FDF26': 372, 'FDF28': 373, 'FDF29': 374, 'FDF32': 375, 'FDF33': 376, 'FDF34': 377, 'FDF35': 378, 'FDF38': 379, 'FDF39': 380, 'FDF40': 381, 'FDF41': 382, 'FDF44': 383, 'FDF45': 384, 'FDF46': 385, 'FDF47': 386, 'FDF50': 387, 'FDF52': 388, 'FDF53': 389, 'FDF56': 390, 'FDF57': 391, 'FDF58': 392, 'FDF59': 393, 'FDG02': 394, 'FDG04': 395, 'FDG05': 396, 'FDG08': 397, 'FDG09': 398, 'FDG10': 399, 'FDG12': 400, 'FDG14': 401, 'FDG16': 402, 'FDG17': 403, 'FDG20': 404, 'FDG21': 405, 'FDG22': 406, 'FDG24': 407, 'FDG26': 408, 'FDG28': 409, 'FDG29': 410, 'FDG31': 411, 'FDG32': 412, 'FDG33': 413, 'FDG34': 414, 'FDG35': 415, 'FDG38': 416, 'FDG40': 417, 'FDG41': 418, 'FDG44': 419, 'FDG45': 420, 'FDG46': 421, 'FDG47': 422, 'FDG50': 423, 'FDG52': 424, 'FDG53': 425, 'FDG56': 426, 'FDG57': 427, 'FDG58': 428, 'FDG59': 429, 'FDG60': 430, 'FDH02': 431, 'FDH04': 432, 'FDH05': 433, 'FDH08': 434, 'FDH09': 435, 'FDH10': 436, 'FDH12': 437, 'FDH14': 438, 'FDH16': 439, 'FDH17': 440, 'FDH19': 441, 'FDH20': 442, 'FDH21': 443, 'FDH22': 444, 'FDH24': 445, 'FDH26': 446, 'FDH27': 447, 'FDH28': 448, 'FDH31': 449, 'FDH32': 450, 'FDH33': 451, 'FDH34': 452, 'FDH35': 453, 'FDH38': 454, 'FDH40': 455, 'FDH41': 456, 'FDH44': 457, 'FDH45': 458, 'FDH46': 459, 'FDH47': 460, 'FDH48': 461, 'FDH50': 462, 'FDH52': 463, 'FDH53': 464, 'FDH56': 465, 'FDH57': 466, 'FDH58': 467, 'FDH60': 468, 'FDI02': 469, 'FDI04': 470, 'FDI05': 471, 'FDI07': 472, 'FDI08': 473, 'FDI09': 474, 'FDI10': 475, 'FDI12': 476, 'FDI14': 477, 'FDI15': 478, 'FDI16': 479, 'FDI19': 480, 'FDI20': 481, 'FDI21': 482, 'FDI22': 483, 'FDI24': 484, 'FDI26': 485, 'FDI27': 486, 'FDI28': 487, 'FDI32': 488, 'FDI33': 489, 'FDI34': 490, 'FDI35': 491, 'FDI36': 492, 'FDI38': 493, 'FDI40': 494, 'FDI41': 495, 'FDI44': 496, 'FDI45': 497, 'FDI46': 498, 'FDI48': 499, 'FDI50': 500, 'FDI52': 501, 'FDI53': 502, 'FDI56': 503, 'FDI57': 504, 'FDI58': 505, 'FDI60': 506, 'FDJ02': 507, 'FDJ03': 508, 'FDJ04': 509, 'FDJ07': 510, 'FDJ08': 511, 'FDJ09': 512, 'FDJ10': 513, 'FDJ12': 514, 'FDJ14': 515, 'FDJ15': 516, 'FDJ16': 517, 'FDJ20': 518, 'FDJ21': 519, 'FDJ22': 520, 'FDJ26': 521, 'FDJ27': 522, 'FDJ28': 523, 'FDJ32': 524, 'FDJ33': 525, 'FDJ34': 526, 'FDJ36': 527, 'FDJ38': 528, 'FDJ40': 529, 'FDJ41': 530, 'FDJ44': 531, 'FDJ45': 532, 'FDJ46': 533, 'FDJ48': 534, 'FDJ50': 535, 'FDJ52': 536, 'FDJ53': 537, 'FDJ55': 538, 'FDJ56': 539, 'FDJ57': 540, 'FDJ58': 541, 'FDJ60': 542, 'FDK02': 543, 'FDK03': 544, 'FDK04': 545, 'FDK08': 546, 'FDK09': 547, 'FDK10': 548, 'FDK14': 549, 'FDK15': 550, 'FDK16': 551, 'FDK20': 552, 'FDK21': 553, 'FDK22': 554, 'FDK24': 555, 'FDK25': 556, 'FDK26': 557, 'FDK27': 558, 'FDK28': 559, 'FDK32': 560, 'FDK33': 561, 'FDK34': 562, 'FDK36': 563, 'FDK38': 564, 'FDK40': 565, 'FDK41': 566, 'FDK43': 567, 'FDK44': 568, 'FDK45': 569, 'FDK46': 570, 'FDK48': 571, 'FDK50': 572, 'FDK51': 573, 'FDK52': 574, 'FDK55': 575, 'FDK56': 576, 'FDK57': 577, 'FDK58': 578, 'FDK60': 579, 'FDL02': 580, 'FDL03': 581, 'FDL04': 582, 'FDL08': 583, 'FDL09': 584, 'FDL10': 585, 'FDL12': 586, 'FDL13': 587, 'FDL14': 588, 'FDL15': 589, 'FDL16': 590, 'FDL20': 591, 'FDL21': 592, 'FDL22': 593, 'FDL24': 594, 'FDL25': 595, 'FDL26': 596, 'FDL27': 597, 'FDL28': 598, 'FDL32': 599, 'FDL33': 600, 'FDL34': 601, 'FDL36': 602, 'FDL38': 603, 'FDL39': 604, 'FDL40': 605, 'FDL43': 606, 'FDL44': 607, 'FDL45': 608, 'FDL46': 609, 'FDL48': 610, 'FDL50': 611, 'FDL51': 612, 'FDL52': 613, 'FDL56': 614, 'FDL57': 615, 'FDL58': 616, 'FDM01': 617, 'FDM02': 618, 'FDM03': 619, 'FDM04': 620, 'FDM08': 621, 'FDM09': 622, 'FDM10': 623, 'FDM12': 624, 'FDM13': 625, 'FDM14': 626, 'FDM15': 627, 'FDM16': 628, 'FDM20': 629, 'FDM21': 630, 'FDM22': 631, 'FDM24': 632, 'FDM25': 633, 'FDM27': 634, 'FDM28': 635, 'FDM32': 636, 'FDM33': 637, 'FDM34': 638, 'FDM36': 639, 'FDM38': 640, 'FDM39': 641, 'FDM40': 642, 'FDM44': 643, 'FDM45': 644, 'FDM46': 645, 'FDM50': 646, 'FDM51': 647, 'FDM52': 648, 'FDM56': 649, 'FDM57': 650, 'FDM58': 651, 'FDM60': 652, 'FDN01': 653, 'FDN02': 654, 'FDN03': 655, 'FDN04': 656, 'FDN08': 657, 'FDN09': 658, 'FDN10': 659, 'FDN12': 660, 'FDN13': 661, 'FDN15': 662, 'FDN16': 663, 'FDN20': 664, 'FDN21': 665, 'FDN22': 666, 'FDN23': 667, 'FDN24': 668, 'FDN25': 669, 'FDN27': 670, 'FDN28': 671, 'FDN31': 672, 'FDN32': 673, 'FDN33': 674, 'FDN34': 675, 'FDN38': 676, 'FDN39': 677, 'FDN40': 678, 'FDN44': 679, 'FDN45': 680, 'FDN46': 681, 'FDN48': 682, 'FDN49': 683, 'FDN50': 684, 'FDN51': 685, 'FDN52': 686, 'FDN56': 687, 'FDN57': 688, 'FDN58': 689, 'FDN60': 690, 'FDO01': 691, 'FDO03': 692, 'FDO04': 693, 'FDO08': 694, 'FDO09': 695, 'FDO10': 696, 'FDO11': 697, 'FDO12': 698, 'FDO13': 699, 'FDO15': 700, 'FDO16': 701, 'FDO19': 702, 'FDO20': 703, 'FDO21': 704, 'FDO22': 705, 'FDO23': 706, 'FDO24': 707, 'FDO25': 708, 'FDO27': 709, 'FDO28': 710, 'FDO31': 711, 'FDO32': 712, 'FDO33': 713, 'FDO34': 714, 'FDO36': 715, 'FDO37': 716, 'FDO38': 717, 'FDO39': 718, 'FDO40': 719, 'FDO44': 720, 'FDO45': 721, 'FDO46': 722, 'FDO48': 723, 'FDO49': 724, 'FDO50': 725, 'FDO51': 726, 'FDO52': 727, 'FDO56': 728, 'FDO57': 729, 'FDO58': 730, 'FDO60': 731, 'FDP01': 732, 'FDP03': 733, 'FDP04': 734, 'FDP07': 735, 'FDP08': 736, 'FDP09': 737, 'FDP10': 738, 'FDP11': 739, 'FDP12': 740, 'FDP13': 741, 'FDP15': 742, 'FDP16': 743, 'FDP19': 744, 'FDP20': 745, 'FDP21': 746, 'FDP22': 747, 'FDP23': 748, 'FDP24': 749, 'FDP25': 750, 'FDP26': 751, 'FDP27': 752, 'FDP28': 753, 'FDP31': 754, 'FDP32': 755, 'FDP33': 756, 'FDP34': 757, 'FDP36': 758, 'FDP37': 759, 'FDP38': 760, 'FDP39': 761, 'FDP40': 762, 'FDP44': 763, 'FDP45': 764, 'FDP46': 765, 'FDP48': 766, 'FDP49': 767, 'FDP51': 768, 'FDP52': 769, 'FDP56': 770, 'FDP57': 771, 'FDP58': 772, 'FDP59': 773, 'FDP60': 774, 'FDQ01': 775, 'FDQ03': 776, 'FDQ04': 777, 'FDQ07': 778, 'FDQ08': 779, 'FDQ09': 780, 'FDQ10': 781, 'FDQ11': 782, 'FDQ12': 783, 'FDQ13': 784, 'FDQ14': 785, 'FDQ15': 786, 'FDQ16': 787, 'FDQ19': 788, 'FDQ20': 789, 'FDQ21': 790, 'FDQ22': 791, 'FDQ23': 792, 'FDQ24': 793, 'FDQ25': 794, 'FDQ26': 795, 'FDQ27': 796, 'FDQ28': 797, 'FDQ31': 798, 'FDQ32': 799, 'FDQ33': 800, 'FDQ34': 801, 'FDQ36': 802, 'FDQ37': 803, 'FDQ39': 804, 'FDQ40': 805, 'FDQ44': 806, 'FDQ45': 807, 'FDQ46': 808, 'FDQ47': 809, 'FDQ48': 810, 'FDQ49': 811, 'FDQ51': 812, 'FDQ52': 813, 'FDQ55': 814, 'FDQ56': 815, 'FDQ57': 816, 'FDQ58': 817, 'FDQ59': 818, 'FDQ60': 819, 'FDR01': 820, 'FDR02': 821, 'FDR03': 822, 'FDR04': 823, 'FDR07': 824, 'FDR08': 825, 'FDR09': 826, 'FDR10': 827, 'FDR11': 828, 'FDR12': 829, 'FDR13': 830, 'FDR14': 831, 'FDR15': 832, 'FDR16': 833, 'FDR19': 834, 'FDR20': 835, 'FDR21': 836, 'FDR22': 837, 'FDR23': 838, 'FDR24': 839, 'FDR25': 840, 'FDR26': 841, 'FDR27': 842, 'FDR28': 843, 'FDR31': 844, 'FDR32': 845, 'FDR33': 846, 'FDR34': 847, 'FDR35': 848, 'FDR36': 849, 'FDR37': 850, 'FDR39': 851, 'FDR40': 852, 'FDR43': 853, 'FDR44': 854, 'FDR45': 855, 'FDR46': 856, 'FDR47': 857, 'FDR48': 858, 'FDR49': 859, 'FDR51': 860, 'FDR52': 861, 'FDR55': 862, 'FDR56': 863, 'FDR57': 864, 'FDR58': 865, 'FDR59': 866, 'FDR60': 867, 'FDS01': 868, 'FDS02': 869, 'FDS03': 870, 'FDS04': 871, 'FDS07': 872, 'FDS08': 873, 'FDS09': 874, 'FDS10': 875, 'FDS11': 876, 'FDS12': 877, 'FDS13': 878, 'FDS14': 879, 'FDS15': 880, 'FDS16': 881, 'FDS19': 882, 'FDS20': 883, 'FDS21': 884, 'FDS22': 885, 'FDS23': 886, 'FDS24': 887, 'FDS25': 888, 'FDS26': 889, 'FDS27': 890, 'FDS28': 891, 'FDS31': 892, 'FDS32': 893, 'FDS33': 894, 'FDS34': 895, 'FDS35': 896, 'FDS36': 897, 'FDS37': 898, 'FDS39': 899, 'FDS40': 900, 'FDS43': 901, 'FDS44': 902, 'FDS45': 903, 'FDS46': 904, 'FDS47': 905, 'FDS48': 906, 'FDS49': 907, 'FDS50': 908, 'FDS51': 909, 'FDS52': 910, 'FDS55': 911, 'FDS56': 912, 'FDS57': 913, 'FDS58': 914, 'FDS59': 915, 'FDS60': 916, 'FDT01': 917, 'FDT02': 918, 'FDT03': 919, 'FDT04': 920, 'FDT07': 921, 'FDT08': 922, 'FDT09': 923, 'FDT10': 924, 'FDT11': 925, 'FDT12': 926, 'FDT13': 927, 'FDT14': 928, 'FDT15': 929, 'FDT16': 930, 'FDT19': 931, 'FDT20': 932, 'FDT21': 933, 'FDT22': 934, 'FDT23': 935, 'FDT24': 936, 'FDT25': 937, 'FDT26': 938, 'FDT27': 939, 'FDT28': 940, 'FDT31': 941, 'FDT32': 942, 'FDT33': 943, 'FDT34': 944, 'FDT35': 945, 'FDT36': 946, 'FDT37': 947, 'FDT38': 948, 'FDT39': 949, 'FDT40': 950, 'FDT43': 951, 'FDT44': 952, 'FDT45': 953, 'FDT46': 954, 'FDT47': 955, 'FDT48': 956, 'FDT49': 957, 'FDT50': 958, 'FDT51': 959, 'FDT52': 960, 'FDT55': 961, 'FDT56': 962, 'FDT57': 963, 'FDT58': 964, 'FDT59': 965, 'FDT60': 966, 'FDU01': 967, 'FDU02': 968, 'FDU03': 969, 'FDU04': 970, 'FDU07': 971, 'FDU08': 972, 'FDU09': 973, 'FDU10': 974, 'FDU11': 975, 'FDU12': 976, 'FDU13': 977, 'FDU14': 978, 'FDU15': 979, 'FDU16': 980, 'FDU19': 981, 'FDU20': 982, 'FDU21': 983, 'FDU22': 984, 'FDU23': 985, 'FDU24': 986, 'FDU25': 987, 'FDU26': 988, 'FDU27': 989, 'FDU28': 990, 'FDU31': 991, 'FDU32': 992, 'FDU33': 993, 'FDU34': 994, 'FDU35': 995, 'FDU36': 996, 'FDU37': 997, 'FDU38': 998, 'FDU39': 999, 'FDU40': 1000, 'FDU43': 1001, 'FDU44': 1002, 'FDU45': 1003, 'FDU46': 1004, 'FDU47': 1005, 'FDU48': 1006, 'FDU49': 1007, 'FDU50': 1008, 'FDU51': 1009, 'FDU52': 1010, 'FDU55': 1011, 'FDU56': 1012, 'FDU57': 1013, 'FDU58': 1014, 'FDU59': 1015, 'FDU60': 1016, 'FDV01': 1017, 'FDV02': 1018, 'FDV03': 1019, 'FDV04': 1020, 'FDV07': 1021, 'FDV08': 1022, 'FDV09': 1023, 'FDV10': 1024, 'FDV11': 1025, 'FDV12': 1026, 'FDV13': 1027, 'FDV14': 1028, 'FDV15': 1029, 'FDV16': 1030, 'FDV19': 1031, 'FDV20': 1032, 'FDV21': 1033, 'FDV22': 1034, 'FDV23': 1035, 'FDV24': 1036, 'FDV25': 1037, 'FDV26': 1038, 'FDV27': 1039, 'FDV28': 1040, 'FDV31': 1041, 'FDV32': 1042, 'FDV33': 1043, 'FDV34': 1044, 'FDV35': 1045, 'FDV36': 1046, 'FDV37': 1047, 'FDV38': 1048, 'FDV39': 1049, 'FDV40': 1050, 'FDV43': 1051, 'FDV44': 1052, 'FDV45': 1053, 'FDV46': 1054, 'FDV47': 1055, 'FDV48': 1056, 'FDV49': 1057, 'FDV50': 1058, 'FDV51': 1059, 'FDV52': 1060, 'FDV55': 1061, 'FDV56': 1062, 'FDV57': 1063, 'FDV58': 1064, 'FDV59': 1065, 'FDV60': 1066, 'FDW01': 1067, 'FDW02': 1068, 'FDW03': 1069, 'FDW04': 1070, 'FDW07': 1071, 'FDW08': 1072, 'FDW09': 1073, 'FDW10': 1074, 'FDW11': 1075, 'FDW12': 1076, 'FDW13': 1077, 'FDW14': 1078, 'FDW15': 1079, 'FDW16': 1080, 'FDW19': 1081, 'FDW20': 1082, 'FDW21': 1083, 'FDW22': 1084, 'FDW23': 1085, 'FDW24': 1086, 'FDW25': 1087, 'FDW26': 1088, 'FDW27': 1089, 'FDW28': 1090, 'FDW31': 1091, 'FDW32': 1092, 'FDW33': 1093, 'FDW34': 1094, 'FDW35': 1095, 'FDW36': 1096, 'FDW37': 1097, 'FDW38': 1098, 'FDW39': 1099, 'FDW40': 1100, 'FDW43': 1101, 'FDW44': 1102, 'FDW45': 1103, 'FDW46': 1104, 'FDW47': 1105, 'FDW48': 1106, 'FDW49': 1107, 'FDW50': 1108, 'FDW51': 1109, 'FDW52': 1110, 'FDW55': 1111, 'FDW56': 1112, 'FDW57': 1113, 'FDW58': 1114, 'FDW59': 1115, 'FDW60': 1116, 'FDX01': 1117, 'FDX02': 1118, 'FDX03': 1119, 'FDX04': 1120, 'FDX07': 1121, 'FDX08': 1122, 'FDX09': 1123, 'FDX10': 1124, 'FDX11': 1125, 'FDX12': 1126, 'FDX13': 1127, 'FDX14': 1128, 'FDX15': 1129, 'FDX16': 1130, 'FDX19': 1131, 'FDX20': 1132, 'FDX21': 1133, 'FDX22': 1134, 'FDX23': 1135, 'FDX24': 1136, 'FDX25': 1137, 'FDX26': 1138, 'FDX27': 1139, 'FDX28': 1140, 'FDX31': 1141, 'FDX32': 1142, 'FDX33': 1143, 'FDX34': 1144, 'FDX35': 1145, 'FDX36': 1146, 'FDX37': 1147, 'FDX38': 1148, 'FDX39': 1149, 'FDX40': 1150, 'FDX43': 1151, 'FDX44': 1152, 'FDX45': 1153, 'FDX46': 1154, 'FDX47': 1155, 'FDX48': 1156, 'FDX49': 1157, 'FDX50': 1158, 'FDX51': 1159, 'FDX52': 1160, 'FDX55': 1161, 'FDX56': 1162, 'FDX57': 1163, 'FDX58': 1164, 'FDX59': 1165, 'FDX60': 1166, 'FDY01': 1167, 'FDY02': 1168, 'FDY03': 1169, 'FDY04': 1170, 'FDY07': 1171, 'FDY08': 1172, 'FDY09': 1173, 'FDY10': 1174, 'FDY11': 1175, 'FDY12': 1176, 'FDY13': 1177, 'FDY14': 1178, 'FDY15': 1179, 'FDY16': 1180, 'FDY19': 1181, 'FDY20': 1182, 'FDY21': 1183, 'FDY22': 1184, 'FDY24': 1185, 'FDY25': 1186, 'FDY26': 1187, 'FDY27': 1188, 'FDY28': 1189, 'FDY31': 1190, 'FDY32': 1191, 'FDY33': 1192, 'FDY34': 1193, 'FDY35': 1194, 'FDY36': 1195, 'FDY37': 1196, 'FDY38': 1197, 'FDY39': 1198, 'FDY40': 1199, 'FDY43': 1200, 'FDY44': 1201, 'FDY45': 1202, 'FDY46': 1203, 'FDY47': 1204, 'FDY48': 1205, 'FDY49': 1206, 'FDY50': 1207, 'FDY51': 1208, 'FDY52': 1209, 'FDY55': 1210, 'FDY56': 1211, 'FDY57': 1212, 'FDY58': 1213, 'FDY59': 1214, 'FDY60': 1215, 'FDZ01': 1216, 'FDZ02': 1217, 'FDZ03': 1218, 'FDZ04': 1219, 'FDZ07': 1220, 'FDZ08': 1221, 'FDZ09': 1222, 'FDZ10': 1223, 'FDZ12': 1224, 'FDZ13': 1225, 'FDZ14': 1226, 'FDZ15': 1227, 'FDZ16': 1228, 'FDZ19': 1229, 'FDZ20': 1230, 'FDZ21': 1231, 'FDZ22': 1232, 'FDZ23': 1233, 'FDZ25': 1234, 'FDZ26': 1235, 'FDZ27': 1236, 'FDZ28': 1237, 'FDZ31': 1238, 'FDZ32': 1239, 'FDZ33': 1240, 'FDZ34': 1241, 'FDZ35': 1242, 'FDZ36': 1243, 'FDZ37': 1244, 'FDZ38': 1245, 'FDZ39': 1246, 'FDZ40': 1247, 'FDZ43': 1248, 'FDZ44': 1249, 'FDZ45': 1250, 'FDZ46': 1251, 'FDZ47': 1252, 'FDZ48': 1253, 'FDZ49': 1254, 'FDZ50': 1255, 'FDZ51': 1256, 'FDZ52': 1257, 'FDZ55': 1258, 'FDZ56': 1259, 'FDZ57': 1260, 'FDZ58': 1261, 'FDZ59': 1262, 'FDZ60': 1263, 'NCA05': 1264, 'NCA06': 1265, 'NCA17': 1266, 'NCA18': 1267, 'NCA29': 1268, 'NCA30': 1269, 'NCA41': 1270, 'NCA42': 1271, 'NCA53': 1272, 'NCA54': 1273, 'NCB06': 1274, 'NCB07': 1275, 'NCB18': 1276, 'NCB19': 1277, 'NCB30': 1278, 'NCB31': 1279, 'NCB42': 1280, 'NCB43': 1281, 'NCB54': 1282, 'NCB55': 1283, 'NCC06': 1284, 'NCC07': 1285, 'NCC18': 1286, 'NCC19': 1287, 'NCC30': 1288, 'NCC31': 1289, 'NCC42': 1290, 'NCC43': 1291, 'NCC54': 1292, 'NCC55': 1293, 'NCD06': 1294, 'NCD07': 1295, 'NCD18': 1296, 'NCD19': 1297, 'NCD30': 1298, 'NCD31': 1299, 'NCD42': 1300, 'NCD43': 1301, 'NCD54': 1302, 'NCD55': 1303, 'NCE06': 1304, 'NCE07': 1305, 'NCE18': 1306, 'NCE19': 1307, 'NCE30': 1308, 'NCE31': 1309, 'NCE42': 1310, 'NCE43': 1311, 'NCE54': 1312, 'NCE55': 1313, 'NCF06': 1314, 'NCF07': 1315, 'NCF18': 1316, 'NCF19': 1317, 'NCF30': 1318, 'NCF31': 1319, 'NCF42': 1320, 'NCF43': 1321, 'NCF54': 1322, 'NCF55': 1323, 'NCG06': 1324, 'NCG07': 1325, 'NCG18': 1326, 'NCG19': 1327, 'NCG30': 1328, 'NCG42': 1329, 'NCG43': 1330, 'NCG54': 1331, 'NCG55': 1332, 'NCH06': 1333, 'NCH07': 1334, 'NCH18': 1335, 'NCH29': 1336, 'NCH30': 1337, 'NCH42': 1338, 'NCH43': 1339, 'NCH54': 1340, 'NCH55': 1341, 'NCI06': 1342, 'NCI17': 1343, 'NCI18': 1344, 'NCI29': 1345, 'NCI30': 1346, 'NCI31': 1347, 'NCI42': 1348, 'NCI43': 1349, 'NCI54': 1350, 'NCI55': 1351, 'NCJ05': 1352, 'NCJ06': 1353, 'NCJ17': 1354, 'NCJ18': 1355, 'NCJ19': 1356, 'NCJ29': 1357, 'NCJ30': 1358, 'NCJ31': 1359, 'NCJ42': 1360, 'NCJ43': 1361, 'NCJ54': 1362, 'NCK05': 1363, 'NCK06': 1364, 'NCK07': 1365, 'NCK17': 1366, 'NCK18': 1367, 'NCK19': 1368, 'NCK29': 1369, 'NCK30': 1370, 'NCK31': 1371, 'NCK42': 1372, 'NCK53': 1373, 'NCK54': 1374, 'NCL05': 1375, 'NCL06': 1376, 'NCL07': 1377, 'NCL17': 1378, 'NCL18': 1379, 'NCL19': 1380, 'NCL29': 1381, 'NCL30': 1382, 'NCL31': 1383, 'NCL41': 1384, 'NCL42': 1385, 'NCL53': 1386, 'NCL54': 1387, 'NCL55': 1388, 'NCM05': 1389, 'NCM06': 1390, 'NCM07': 1391, 'NCM17': 1392, 'NCM18': 1393, 'NCM19': 1394, 'NCM26': 1395, 'NCM29': 1396, 'NCM30': 1397, 'NCM31': 1398, 'NCM41': 1399, 'NCM42': 1400, 'NCM43': 1401, 'NCM53': 1402, 'NCM54': 1403, 'NCM55': 1404, 'NCN05': 1405, 'NCN06': 1406, 'NCN07': 1407, 'NCN14': 1408, 'NCN17': 1409, 'NCN18': 1410, 'NCN19': 1411, 'NCN26': 1412, 'NCN29': 1413, 'NCN30': 1414, 'NCN41': 1415, 'NCN42': 1416, 'NCN43': 1417, 'NCN53': 1418, 'NCN54': 1419, 'NCN55': 1420, 'NCO02': 1421, 'NCO05': 1422, 'NCO06': 1423, 'NCO07': 1424, 'NCO14': 1425, 'NCO17': 1426, 'NCO18': 1427, 'NCO26': 1428, 'NCO29': 1429, 'NCO30': 1430, 'NCO41': 1431, 'NCO42': 1432, 'NCO43': 1433, 'NCO53': 1434, 'NCO54': 1435, 'NCO55': 1436, 'NCP02': 1437, 'NCP05': 1438, 'NCP06': 1439, 'NCP14': 1440, 'NCP17': 1441, 'NCP18': 1442, 'NCP29': 1443, 'NCP30': 1444, 'NCP41': 1445, 'NCP42': 1446, 'NCP43': 1447, 'NCP50': 1448, 'NCP53': 1449, 'NCP54': 1450, 'NCP55': 1451, 'NCQ02': 1452, 'NCQ05': 1453, 'NCQ06': 1454, 'NCQ17': 1455, 'NCQ18': 1456, 'NCQ29': 1457, 'NCQ30': 1458, 'NCQ38': 1459, 'NCQ41': 1460, 'NCQ42': 1461, 'NCQ43': 1462, 'NCQ50': 1463, 'NCQ53': 1464, 'NCQ54': 1465, 'NCR05': 1466, 'NCR06': 1467, 'NCR17': 1468, 'NCR18': 1469, 'NCR29': 1470, 'NCR30': 1471, 'NCR38': 1472, 'NCR41': 1473, 'NCR42': 1474, 'NCR50': 1475, 'NCR53': 1476, 'NCR54': 1477, 'NCS05': 1478, 'NCS06': 1479, 'NCS17': 1480, 'NCS18': 1481, 'NCS29': 1482, 'NCS30': 1483, 'NCS38': 1484, 'NCS41': 1485, 'NCS42': 1486, 'NCS53': 1487, 'NCS54': 1488, 'NCT05': 1489, 'NCT06': 1490, 'NCT17': 1491, 'NCT18': 1492, 'NCT29': 1493, 'NCT30': 1494, 'NCT41': 1495, 'NCT42': 1496, 'NCT53': 1497, 'NCT54': 1498, 'NCU05': 1499, 'NCU06': 1500, 'NCU17': 1501, 'NCU18': 1502, 'NCU29': 1503, 'NCU30': 1504, 'NCU41': 1505, 'NCU42': 1506, 'NCU53': 1507, 'NCU54': 1508, 'NCV05': 1509, 'NCV06': 1510, 'NCV17': 1511, 'NCV18': 1512, 'NCV29': 1513, 'NCV30': 1514, 'NCV41': 1515, 'NCV42': 1516, 'NCV53': 1517, 'NCV54': 1518, 'NCW05': 1519, 'NCW06': 1520, 'NCW17': 1521, 'NCW18': 1522, 'NCW29': 1523, 'NCW30': 1524, 'NCW41': 1525, 'NCW42': 1526, 'NCW53': 1527, 'NCW54': 1528, 'NCX05': 1529, 'NCX06': 1530, 'NCX17': 1531, 'NCX18': 1532, 'NCX29': 1533, 'NCX30': 1534, 'NCX41': 1535, 'NCX42': 1536, 'NCX53': 1537, 'NCX54': 1538, 'NCY05': 1539, 'NCY06': 1540, 'NCY17': 1541, 'NCY18': 1542, 'NCY29': 1543, 'NCY30': 1544, 'NCY41': 1545, 'NCY42': 1546, 'NCY53': 1547, 'NCY54': 1548, 'NCZ05': 1549, 'NCZ06': 1550, 'NCZ17': 1551, 'NCZ18': 1552, 'NCZ29': 1553, 'NCZ30': 1554, 'NCZ41': 1555, 'NCZ42': 1556, 'NCZ53': 1557, 'NCZ54': 1558}\n",
            "{'Low Fat': 0, 'Regular': 1}\n",
            "{'Baking Goods': 0, 'Breads': 1, 'Breakfast': 2, 'Canned': 3, 'Dairy': 4, 'Frozen Foods': 5, 'Fruits and Vegetables': 6, 'Hard Drinks': 7, 'Health and Hygiene': 8, 'Household': 9, 'Meat': 10, 'Others': 11, 'Seafood': 12, 'Snack Foods': 13, 'Soft Drinks': 14, 'Starchy Foods': 15}\n",
            "{'OUT010': 0, 'OUT013': 1, 'OUT017': 2, 'OUT018': 3, 'OUT019': 4, 'OUT027': 5, 'OUT035': 6, 'OUT045': 7, 'OUT046': 8, 'OUT049': 9}\n",
            "{'Tier 1': 0, 'Tier 2': 1, 'Tier 3': 2}\n",
            "{'Grocery Store': 0, 'Supermarket Type1': 1, 'Supermarket Type2': 2, 'Supermarket Type3': 3}\n"
          ],
          "name": "stdout"
        }
      ]
    },
    {
      "cell_type": "markdown",
      "metadata": {
        "id": "PDHSqiH2xwMd"
      },
      "source": [
        "### Plotting the Correlation Heatmap"
      ]
    },
    {
      "cell_type": "code",
      "metadata": {
        "id": "Do0I-5czdYgK",
        "outputId": "290f1ba1-9db2-4ca4-af2f-3af94e41702f",
        "colab": {
          "base_uri": "https://localhost:8080/",
          "height": 572
        }
      },
      "source": [
        "fig, ax = plt.subplots(figsize=(10,7)) \n",
        "sns.heatmap(df.corr(), annot=True, cmap='coolwarm', fmt='0.1g', ax=ax)"
      ],
      "execution_count": null,
      "outputs": [
        {
          "output_type": "execute_result",
          "data": {
            "text/plain": [
              "<matplotlib.axes._subplots.AxesSubplot at 0x7fc87b77ca20>"
            ]
          },
          "metadata": {
            "tags": []
          },
          "execution_count": 38
        },
        {
          "output_type": "display_data",
          "data": {
            "image/png": "[encoded data removed]",
            "text/plain": [
              "<Figure size 720x504 with 2 Axes>"
            ]
          },
          "metadata": {
            "tags": [],
            "needs_background": "light"
          }
        }
      ]
    },
    {
      "cell_type": "code",
      "metadata": {
        "id": "7R6_UjjTg7N3",
        "outputId": "fa47ae20-b6ea-43b0-cb71-0baf3fa5cc8d",
        "colab": {
          "base_uri": "https://localhost:8080/",
          "height": 226
        }
      },
      "source": [
        "df.head()"
      ],
      "execution_count": null,
      "outputs": [
        {
          "output_type": "execute_result",
          "data": {
            "text/html": [
              "<div>\n",
              "<style scoped>\n",
              "    .dataframe tbody tr th:only-of-type {\n",
              "        vertical-align: middle;\n",
              "    }\n",
              "\n",
              "    .dataframe tbody tr th {\n",
              "        vertical-align: top;\n",
              "    }\n",
              "\n",
              "    .dataframe thead th {\n",
              "        text-align: right;\n",
              "    }\n",
              "</style>\n",
              "<table border=\"1\" class=\"dataframe\">\n",
              "  <thead>\n",
              "    <tr style=\"text-align: right;\">\n",
              "      <th></th>\n",
              "      <th>Item_Identifier</th>\n",
              "      <th>Item_Weight</th>\n",
              "      <th>Item_Fat_Content</th>\n",
              "      <th>Item_Visibility</th>\n",
              "      <th>Item_Type</th>\n",
              "      <th>Item_MRP</th>\n",
              "      <th>Outlet_Identifier</th>\n",
              "      <th>Outlet_Establishment_Year</th>\n",
              "      <th>Outlet_Size</th>\n",
              "      <th>Outlet_Location_Type</th>\n",
              "      <th>Outlet_Type</th>\n",
              "      <th>Item_Outlet_Sales</th>\n",
              "    </tr>\n",
              "  </thead>\n",
              "  <tbody>\n",
              "    <tr>\n",
              "      <th>0</th>\n",
              "      <td>156</td>\n",
              "      <td>9.30</td>\n",
              "      <td>0</td>\n",
              "      <td>0.016047</td>\n",
              "      <td>4</td>\n",
              "      <td>249.8092</td>\n",
              "      <td>9</td>\n",
              "      <td>1999</td>\n",
              "      <td>Medium</td>\n",
              "      <td>0</td>\n",
              "      <td>1</td>\n",
              "      <td>3735.1380</td>\n",
              "    </tr>\n",
              "    <tr>\n",
              "      <th>1</th>\n",
              "      <td>8</td>\n",
              "      <td>5.92</td>\n",
              "      <td>1</td>\n",
              "      <td>0.019278</td>\n",
              "      <td>14</td>\n",
              "      <td>48.2692</td>\n",
              "      <td>3</td>\n",
              "      <td>2009</td>\n",
              "      <td>Medium</td>\n",
              "      <td>2</td>\n",
              "      <td>2</td>\n",
              "      <td>443.4228</td>\n",
              "    </tr>\n",
              "    <tr>\n",
              "      <th>2</th>\n",
              "      <td>662</td>\n",
              "      <td>17.50</td>\n",
              "      <td>0</td>\n",
              "      <td>0.016760</td>\n",
              "      <td>10</td>\n",
              "      <td>141.6180</td>\n",
              "      <td>9</td>\n",
              "      <td>1999</td>\n",
              "      <td>Medium</td>\n",
              "      <td>0</td>\n",
              "      <td>1</td>\n",
              "      <td>2097.2700</td>\n",
              "    </tr>\n",
              "    <tr>\n",
              "      <th>3</th>\n",
              "      <td>1121</td>\n",
              "      <td>19.20</td>\n",
              "      <td>1</td>\n",
              "      <td>0.000000</td>\n",
              "      <td>6</td>\n",
              "      <td>182.0950</td>\n",
              "      <td>0</td>\n",
              "      <td>1998</td>\n",
              "      <td>NaN</td>\n",
              "      <td>2</td>\n",
              "      <td>0</td>\n",
              "      <td>732.3800</td>\n",
              "    </tr>\n",
              "    <tr>\n",
              "      <th>4</th>\n",
              "      <td>1297</td>\n",
              "      <td>8.93</td>\n",
              "      <td>0</td>\n",
              "      <td>0.000000</td>\n",
              "      <td>9</td>\n",
              "      <td>53.8614</td>\n",
              "      <td>1</td>\n",
              "      <td>1987</td>\n",
              "      <td>High</td>\n",
              "      <td>2</td>\n",
              "      <td>1</td>\n",
              "      <td>994.7052</td>\n",
              "    </tr>\n",
              "  </tbody>\n",
              "</table>\n",
              "</div>"
            ],
            "text/plain": [
              "   Item_Identifier  Item_Weight  ...  Outlet_Type  Item_Outlet_Sales\n",
              "0              156         9.30  ...            1          3735.1380\n",
              "1                8         5.92  ...            2           443.4228\n",
              "2              662        17.50  ...            1          2097.2700\n",
              "3             1121        19.20  ...            0           732.3800\n",
              "4             1297         8.93  ...            1           994.7052\n",
              "\n",
              "[5 rows x 12 columns]"
            ]
          },
          "metadata": {
            "tags": []
          },
          "execution_count": 39
        }
      ]
    },
    {
      "cell_type": "markdown",
      "metadata": {
        "id": "hmkG-Kzwx4GK"
      },
      "source": [
        "### Filling NULL values using Linear Regression"
      ]
    },
    {
      "cell_type": "code",
      "metadata": {
        "id": "t2QxCiuefWuF"
      },
      "source": [
        "cols = ['Item_Identifier', 'Item_Weight', 'Item_Fat_Content', 'Item_Visibility',\n",
        "       'Item_Type', 'Item_MRP', 'Outlet_Identifier',\n",
        "       'Outlet_Establishment_Year', 'Outlet_Location_Type',\n",
        "       'Outlet_Type', 'Item_Outlet_Sales']"
      ],
      "execution_count": null,
      "outputs": []
    },
    {
      "cell_type": "code",
      "metadata": {
        "id": "hoUlpUGvhQVc",
        "outputId": "0f429ddb-2463-48f3-a3f6-24f152324ba0",
        "colab": {
          "base_uri": "https://localhost:8080/",
          "height": 173
        }
      },
      "source": [
        "data = df[cols]\n",
        "data['Item_Weight'].describe()"
      ],
      "execution_count": null,
      "outputs": [
        {
          "output_type": "execute_result",
          "data": {
            "text/plain": [
              "count    7060.000000\n",
              "mean       12.857645\n",
              "std         4.643456\n",
              "min         4.555000\n",
              "25%         8.773750\n",
              "50%        12.600000\n",
              "75%        16.850000\n",
              "max        21.350000\n",
              "Name: Item_Weight, dtype: float64"
            ]
          },
          "metadata": {
            "tags": []
          },
          "execution_count": 41
        }
      ]
    },
    {
      "cell_type": "code",
      "metadata": {
        "id": "yzbkYZ-Kfe0W"
      },
      "source": [
        "test_df = data[data[\"Item_Weight\"].isnull()]"
      ],
      "execution_count": null,
      "outputs": []
    },
    {
      "cell_type": "code",
      "metadata": {
        "id": "yO4kljw-f8rq"
      },
      "source": [
        "from sklearn.linear_model import LinearRegression\n",
        "data = data.dropna()\n",
        "\n",
        "y_train = data[\"Item_Weight\"]\n",
        "X_train = data.drop(\"Item_Weight\", axis=1)\n",
        "\n",
        "X_test = test_df.drop(\"Item_Weight\", axis=1)\n",
        "\n",
        "#train model to fit dataset and predict missing values from column \"Age\"\n",
        "lr = LinearRegression()\n",
        "lr.fit(X_train, y_train)\n",
        "y_pred = lr.predict(X_test)\n",
        "\n",
        "#replace the missing values with predicted values\n",
        "df.loc[df.Item_Weight.isnull(), 'Item_Weight'] = y_pred"
      ],
      "execution_count": null,
      "outputs": []
    },
    {
      "cell_type": "code",
      "metadata": {
        "id": "Zs1UwGTqgMXU",
        "outputId": "2611a2c5-734c-4dbe-cd1b-a09743de52ee",
        "colab": {
          "base_uri": "https://localhost:8080/",
          "height": 173
        }
      },
      "source": [
        "df['Item_Weight'].describe()"
      ],
      "execution_count": null,
      "outputs": [
        {
          "output_type": "execute_result",
          "data": {
            "text/plain": [
              "count    8523.000000\n",
              "mean       12.892174\n",
              "std         4.228710\n",
              "min         4.555000\n",
              "25%         9.310000\n",
              "50%        12.958954\n",
              "75%        16.000000\n",
              "max        21.350000\n",
              "Name: Item_Weight, dtype: float64"
            ]
          },
          "metadata": {
            "tags": []
          },
          "execution_count": 44
        }
      ]
    },
    {
      "cell_type": "code",
      "metadata": {
        "id": "sDZ5DOTDjQe-"
      },
      "source": [
        "df['Outlet_Size'].fillna(df['Outlet_Size'].mode()[0], inplace=True)"
      ],
      "execution_count": null,
      "outputs": []
    },
    {
      "cell_type": "code",
      "metadata": {
        "id": "tDcbyV6BiTIZ",
        "outputId": "d913fc8b-f566-4e85-bffd-a4e46ae12913",
        "colab": {
          "base_uri": "https://localhost:8080/",
          "height": 34
        }
      },
      "source": [
        "lb_encoder = LabelEncoder()\n",
        "df['Outlet_Size'] = lb_encoder.fit_transform(df['Outlet_Size'])\n",
        "le_name_mapping = dict(zip(lb_encoder.classes_, lb_encoder.transform(lb_encoder.classes_)))\n",
        "print(le_name_mapping)"
      ],
      "execution_count": null,
      "outputs": [
        {
          "output_type": "stream",
          "text": [
            "{'High': 0, 'Medium': 1, 'Small': 2}\n"
          ],
          "name": "stdout"
        }
      ]
    },
    {
      "cell_type": "code",
      "metadata": {
        "id": "rPVxAWwsjfZ-",
        "outputId": "a657c50a-beaa-4cd9-9719-4f223f24a538",
        "colab": {
          "base_uri": "https://localhost:8080/",
          "height": 320
        }
      },
      "source": [
        "df.describe()"
      ],
      "execution_count": null,
      "outputs": [
        {
          "output_type": "execute_result",
          "data": {
            "text/html": [
              "<div>\n",
              "<style scoped>\n",
              "    .dataframe tbody tr th:only-of-type {\n",
              "        vertical-align: middle;\n",
              "    }\n",
              "\n",
              "    .dataframe tbody tr th {\n",
              "        vertical-align: top;\n",
              "    }\n",
              "\n",
              "    .dataframe thead th {\n",
              "        text-align: right;\n",
              "    }\n",
              "</style>\n",
              "<table border=\"1\" class=\"dataframe\">\n",
              "  <thead>\n",
              "    <tr style=\"text-align: right;\">\n",
              "      <th></th>\n",
              "      <th>Item_Identifier</th>\n",
              "      <th>Item_Weight</th>\n",
              "      <th>Item_Fat_Content</th>\n",
              "      <th>Item_Visibility</th>\n",
              "      <th>Item_Type</th>\n",
              "      <th>Item_MRP</th>\n",
              "      <th>Outlet_Identifier</th>\n",
              "      <th>Outlet_Establishment_Year</th>\n",
              "      <th>Outlet_Size</th>\n",
              "      <th>Outlet_Location_Type</th>\n",
              "      <th>Outlet_Type</th>\n",
              "      <th>Item_Outlet_Sales</th>\n",
              "    </tr>\n",
              "  </thead>\n",
              "  <tbody>\n",
              "    <tr>\n",
              "      <th>count</th>\n",
              "      <td>8523.000000</td>\n",
              "      <td>8523.000000</td>\n",
              "      <td>8523.000000</td>\n",
              "      <td>8523.000000</td>\n",
              "      <td>8523.000000</td>\n",
              "      <td>8523.000000</td>\n",
              "      <td>8523.000000</td>\n",
              "      <td>8523.000000</td>\n",
              "      <td>8523.000000</td>\n",
              "      <td>8523.000000</td>\n",
              "      <td>8523.000000</td>\n",
              "      <td>8523.000000</td>\n",
              "    </tr>\n",
              "    <tr>\n",
              "      <th>mean</th>\n",
              "      <td>779.714889</td>\n",
              "      <td>12.892174</td>\n",
              "      <td>0.352693</td>\n",
              "      <td>0.066132</td>\n",
              "      <td>7.226681</td>\n",
              "      <td>140.992782</td>\n",
              "      <td>4.722281</td>\n",
              "      <td>1997.831867</td>\n",
              "      <td>1.170832</td>\n",
              "      <td>1.112871</td>\n",
              "      <td>1.201220</td>\n",
              "      <td>2181.288914</td>\n",
              "    </tr>\n",
              "    <tr>\n",
              "      <th>std</th>\n",
              "      <td>449.222377</td>\n",
              "      <td>4.228710</td>\n",
              "      <td>0.477836</td>\n",
              "      <td>0.051598</td>\n",
              "      <td>4.209990</td>\n",
              "      <td>62.275067</td>\n",
              "      <td>2.837201</td>\n",
              "      <td>8.371760</td>\n",
              "      <td>0.600327</td>\n",
              "      <td>0.812757</td>\n",
              "      <td>0.796459</td>\n",
              "      <td>1706.499616</td>\n",
              "    </tr>\n",
              "    <tr>\n",
              "      <th>min</th>\n",
              "      <td>0.000000</td>\n",
              "      <td>4.555000</td>\n",
              "      <td>0.000000</td>\n",
              "      <td>0.000000</td>\n",
              "      <td>0.000000</td>\n",
              "      <td>31.290000</td>\n",
              "      <td>0.000000</td>\n",
              "      <td>1985.000000</td>\n",
              "      <td>0.000000</td>\n",
              "      <td>0.000000</td>\n",
              "      <td>0.000000</td>\n",
              "      <td>33.290000</td>\n",
              "    </tr>\n",
              "    <tr>\n",
              "      <th>25%</th>\n",
              "      <td>395.500000</td>\n",
              "      <td>9.310000</td>\n",
              "      <td>0.000000</td>\n",
              "      <td>0.026989</td>\n",
              "      <td>4.000000</td>\n",
              "      <td>93.826500</td>\n",
              "      <td>2.000000</td>\n",
              "      <td>1987.000000</td>\n",
              "      <td>1.000000</td>\n",
              "      <td>0.000000</td>\n",
              "      <td>1.000000</td>\n",
              "      <td>834.247400</td>\n",
              "    </tr>\n",
              "    <tr>\n",
              "      <th>50%</th>\n",
              "      <td>783.000000</td>\n",
              "      <td>12.958954</td>\n",
              "      <td>0.000000</td>\n",
              "      <td>0.053931</td>\n",
              "      <td>6.000000</td>\n",
              "      <td>143.012800</td>\n",
              "      <td>5.000000</td>\n",
              "      <td>1999.000000</td>\n",
              "      <td>1.000000</td>\n",
              "      <td>1.000000</td>\n",
              "      <td>1.000000</td>\n",
              "      <td>1794.331000</td>\n",
              "    </tr>\n",
              "    <tr>\n",
              "      <th>75%</th>\n",
              "      <td>1167.000000</td>\n",
              "      <td>16.000000</td>\n",
              "      <td>1.000000</td>\n",
              "      <td>0.094585</td>\n",
              "      <td>10.000000</td>\n",
              "      <td>185.643700</td>\n",
              "      <td>7.000000</td>\n",
              "      <td>2004.000000</td>\n",
              "      <td>2.000000</td>\n",
              "      <td>2.000000</td>\n",
              "      <td>1.000000</td>\n",
              "      <td>3101.296400</td>\n",
              "    </tr>\n",
              "    <tr>\n",
              "      <th>max</th>\n",
              "      <td>1558.000000</td>\n",
              "      <td>21.350000</td>\n",
              "      <td>1.000000</td>\n",
              "      <td>0.328391</td>\n",
              "      <td>15.000000</td>\n",
              "      <td>266.888400</td>\n",
              "      <td>9.000000</td>\n",
              "      <td>2009.000000</td>\n",
              "      <td>2.000000</td>\n",
              "      <td>2.000000</td>\n",
              "      <td>3.000000</td>\n",
              "      <td>13086.964800</td>\n",
              "    </tr>\n",
              "  </tbody>\n",
              "</table>\n",
              "</div>"
            ],
            "text/plain": [
              "       Item_Identifier  Item_Weight  ...  Outlet_Type  Item_Outlet_Sales\n",
              "count      8523.000000  8523.000000  ...  8523.000000        8523.000000\n",
              "mean        779.714889    12.892174  ...     1.201220        2181.288914\n",
              "std         449.222377     4.228710  ...     0.796459        1706.499616\n",
              "min           0.000000     4.555000  ...     0.000000          33.290000\n",
              "25%         395.500000     9.310000  ...     1.000000         834.247400\n",
              "50%         783.000000    12.958954  ...     1.000000        1794.331000\n",
              "75%        1167.000000    16.000000  ...     1.000000        3101.296400\n",
              "max        1558.000000    21.350000  ...     3.000000       13086.964800\n",
              "\n",
              "[8 rows x 12 columns]"
            ]
          },
          "metadata": {
            "tags": []
          },
          "execution_count": 47
        }
      ]
    },
    {
      "cell_type": "markdown",
      "metadata": {
        "id": "E1VC-higyF2C"
      },
      "source": [
        "### Finding the best Model for Prediction of Sales Data"
      ]
    },
    {
      "cell_type": "code",
      "metadata": {
        "id": "Un7ph3HHjkAC",
        "outputId": "f9b147ee-aacd-4f86-c4fa-9b17128c4b58",
        "colab": {
          "base_uri": "https://localhost:8080/",
          "height": 1000
        }
      },
      "source": [
        "!pip install pycaret"
      ],
      "execution_count": null,
      "outputs": [
        {
          "output_type": "stream",
          "text": [
            "Collecting pycaret\n",
            "\u001b[?25l  Downloading https://files.pythonhosted.org/packages/0c/76/d8cfa05d2a6f751f57dbb2d2dfe1e0b154aadebbc421432b9375339ad7db/pycaret-2.1.2-py3-none-any.whl (252kB)\n",
            "\u001b[K     |████████████████████████████████| 256kB 8.4MB/s \n",
            "\u001b[?25hCollecting yellowbrick>=1.0.1\n",
            "\u001b[?25l  Downloading https://files.pythonhosted.org/packages/13/95/a14e4fdfb8b1c8753bbe74a626e910a98219ef9c87c6763585bbd30d84cf/yellowbrick-1.1-py3-none-any.whl (263kB)\n",
            "\u001b[K     |████████████████████████████████| 266kB 15.9MB/s \n",
            "\u001b[?25hRequirement already satisfied: numpy>=1.17 in /usr/local/lib/python3.6/dist-packages (from pycaret) (1.18.5)\n",
            "Requirement already satisfied: nltk in /usr/local/lib/python3.6/dist-packages (from pycaret) (3.2.5)\n",
            "Requirement already satisfied: seaborn in /usr/local/lib/python3.6/dist-packages (from pycaret) (0.11.0)\n",
            "Collecting pandas-profiling>=2.8.0\n",
            "\u001b[?25l  Downloading https://files.pythonhosted.org/packages/32/79/5d03ed1172e3e67a997a6a795bcdd2ab58f84851969d01a91455383795b6/pandas_profiling-2.9.0-py2.py3-none-any.whl (258kB)\n",
            "\u001b[K     |████████████████████████████████| 266kB 21.3MB/s \n",
            "\u001b[?25hRequirement already satisfied: xgboost>=0.90 in /usr/local/lib/python3.6/dist-packages (from pycaret) (0.90)\n",
            "Requirement already satisfied: mlxtend in /usr/local/lib/python3.6/dist-packages (from pycaret) (0.14.0)\n",
            "Requirement already satisfied: gensim in /usr/local/lib/python3.6/dist-packages (from pycaret) (3.6.0)\n",
            "Requirement already satisfied: pandas in /usr/local/lib/python3.6/dist-packages (from pycaret) (1.1.2)\n",
            "Requirement already satisfied: wordcloud in /usr/local/lib/python3.6/dist-packages (from pycaret) (1.5.0)\n",
            "Requirement already satisfied: plotly>=4.4.1 in /usr/local/lib/python3.6/dist-packages (from pycaret) (4.4.1)\n",
            "Collecting mlflow\n",
            "\u001b[?25l  Downloading https://files.pythonhosted.org/packages/aa/2d/7fa1f6e310ded489d943ea20cd7977a9867cb8d81b526d9c9460ce4a5b39/mlflow-1.11.0-py3-none-any.whl (13.9MB)\n",
            "\u001b[K     |████████████████████████████████| 13.9MB 316kB/s \n",
            "\u001b[?25hCollecting datefinder>=0.7.0\n",
            "  Downloading https://files.pythonhosted.org/packages/0c/4f/29524c9ca35d2ba1a8a3c6c895b90fc92525cf0fe357f747133890953ebe/datefinder-0.7.1-py2.py3-none-any.whl\n",
            "Requirement already satisfied: joblib in /usr/local/lib/python3.6/dist-packages (from pycaret) (0.16.0)\n",
            "Requirement already satisfied: cufflinks>=0.17.0 in /usr/local/lib/python3.6/dist-packages (from pycaret) (0.17.3)\n",
            "Requirement already satisfied: spacy in /usr/local/lib/python3.6/dist-packages (from pycaret) (2.2.4)\n",
            "Collecting catboost>=0.23.2\n",
            "\u001b[?25l  Downloading https://files.pythonhosted.org/packages/90/86/c3dcb600b4f9e7584ed90ea9d30a717fb5c0111574675f442c3e7bc19535/catboost-0.24.1-cp36-none-manylinux1_x86_64.whl (66.1MB)\n",
            "\u001b[K     |████████████████████████████████| 66.1MB 60kB/s \n",
            "\u001b[?25hCollecting pyLDAvis\n",
            "\u001b[?25l  Downloading https://files.pythonhosted.org/packages/a5/3a/af82e070a8a96e13217c8f362f9a73e82d61ac8fff3a2561946a97f96266/pyLDAvis-2.1.2.tar.gz (1.6MB)\n",
            "\u001b[K     |████████████████████████████████| 1.6MB 47.0MB/s \n",
            "\u001b[?25hCollecting pyod\n",
            "\u001b[?25l  Downloading https://files.pythonhosted.org/packages/a3/4b/d2edd1e85b132d480feced17f044267b3e330391240779d78b1c3d378b24/pyod-0.8.3.tar.gz (96kB)\n",
            "\u001b[K     |████████████████████████████████| 102kB 12.3MB/s \n",
            "\u001b[?25hRequirement already satisfied: IPython in /usr/local/lib/python3.6/dist-packages (from pycaret) (5.5.0)\n",
            "Collecting scikit-learn>=0.23\n",
            "\u001b[?25l  Downloading https://files.pythonhosted.org/packages/5c/a1/273def87037a7fb010512bbc5901c31cfddfca8080bc63b42b26e3cc55b3/scikit_learn-0.23.2-cp36-cp36m-manylinux1_x86_64.whl (6.8MB)\n",
            "\u001b[K     |████████████████████████████████| 6.8MB 47.4MB/s \n",
            "\u001b[?25hCollecting imbalanced-learn>=0.6.2\n",
            "\u001b[?25l  Downloading https://files.pythonhosted.org/packages/c8/81/8db4d87b03b998fda7c6f835d807c9ae4e3b141f978597b8d7f31600be15/imbalanced_learn-0.7.0-py3-none-any.whl (167kB)\n",
            "\u001b[K     |████████████████████████████████| 174kB 47.8MB/s \n",
            "\u001b[?25hRequirement already satisfied: umap-learn in /usr/local/lib/python3.6/dist-packages (from pycaret) (0.4.6)\n",
            "Requirement already satisfied: ipywidgets in /usr/local/lib/python3.6/dist-packages (from pycaret) (7.5.1)\n",
            "Collecting lightgbm>=2.3.1\n",
            "\u001b[?25l  Downloading https://files.pythonhosted.org/packages/25/47/f8ef524e15ff86f5246cb4e1cee200b747ddb2536429fa021cc5f17ea40a/lightgbm-3.0.0-py2.py3-none-manylinux1_x86_64.whl (1.7MB)\n",
            "\u001b[K     |████████████████████████████████| 1.8MB 48.1MB/s \n",
            "\u001b[?25hRequirement already satisfied: matplotlib in /usr/local/lib/python3.6/dist-packages (from pycaret) (3.2.2)\n",
            "Collecting kmodes>=0.10.1\n",
            "  Downloading https://files.pythonhosted.org/packages/b2/55/d8ec1ae1f7e1e202a8a4184c6852a3ee993b202b0459672c699d0ac18fc8/kmodes-0.10.2-py2.py3-none-any.whl\n",
            "Requirement already satisfied: textblob in /usr/local/lib/python3.6/dist-packages (from pycaret) (0.15.3)\n",
            "Requirement already satisfied: scipy>=1.0.0 in /usr/local/lib/python3.6/dist-packages (from yellowbrick>=1.0.1->pycaret) (1.4.1)\n",
            "Requirement already satisfied: cycler>=0.10.0 in /usr/local/lib/python3.6/dist-packages (from yellowbrick>=1.0.1->pycaret) (0.10.0)\n",
            "Requirement already satisfied: six in /usr/local/lib/python3.6/dist-packages (from nltk->pycaret) (1.15.0)\n",
            "Requirement already satisfied: attrs>=19.3.0 in /usr/local/lib/python3.6/dist-packages (from pandas-profiling>=2.8.0->pycaret) (20.2.0)\n",
            "Requirement already satisfied: requests>=2.23.0 in /usr/local/lib/python3.6/dist-packages (from pandas-profiling>=2.8.0->pycaret) (2.23.0)\n",
            "Requirement already satisfied: missingno>=0.4.2 in /usr/local/lib/python3.6/dist-packages (from pandas-profiling>=2.8.0->pycaret) (0.4.2)\n",
            "Requirement already satisfied: jinja2>=2.11.1 in /usr/local/lib/python3.6/dist-packages (from pandas-profiling>=2.8.0->pycaret) (2.11.2)\n",
            "Collecting tangled-up-in-unicode>=0.0.6\n",
            "\u001b[?25l  Downloading https://files.pythonhosted.org/packages/4a/e2/e588ab9298d4989ce7fdb2b97d18aac878d99dbdc379a4476a09d9271b68/tangled_up_in_unicode-0.0.6-py3-none-any.whl (3.1MB)\n",
            "\u001b[K     |████████████████████████████████| 3.1MB 47.2MB/s \n",
            "\u001b[?25hCollecting tqdm>=4.43.0\n",
            "\u001b[?25l  Downloading https://files.pythonhosted.org/packages/0a/0e/ea53a3d6f1eb2cc31162c9ae89555cc26a3986e5559781f0b0df75aea5cf/tqdm-4.50.0-py2.py3-none-any.whl (70kB)\n",
            "\u001b[K     |████████████████████████████████| 71kB 9.3MB/s \n",
            "\u001b[?25hCollecting confuse>=1.0.0\n",
            "\u001b[?25l  Downloading https://files.pythonhosted.org/packages/b5/6d/bedc0d1068bd244cee05843313cbec6cebb9f01f925538269bababc6d887/confuse-1.3.0-py2.py3-none-any.whl (64kB)\n",
            "\u001b[K     |████████████████████████████████| 71kB 9.3MB/s \n",
            "\u001b[?25hCollecting visions[type_image_path]==0.5.0\n",
            "\u001b[?25l  Downloading https://files.pythonhosted.org/packages/26/e3/9416e94e767d59a86edcbcb8e1c8f42874d272c3b343676074879e9db0e0/visions-0.5.0-py3-none-any.whl (64kB)\n",
            "\u001b[K     |████████████████████████████████| 71kB 10.1MB/s \n",
            "\u001b[?25hCollecting htmlmin>=0.1.12\n",
            "  Downloading https://files.pythonhosted.org/packages/b3/e7/fcd59e12169de19f0131ff2812077f964c6b960e7c09804d30a7bf2ab461/htmlmin-0.1.12.tar.gz\n",
            "Collecting phik>=0.9.10\n",
            "\u001b[?25l  Downloading https://files.pythonhosted.org/packages/01/5a/7ef1c04ce62cd72f900c06298dc2385840550d5c653a0dbc19109a5477e6/phik-0.10.0-py3-none-any.whl (599kB)\n",
            "\u001b[K     |████████████████████████████████| 604kB 44.7MB/s \n",
            "\u001b[?25hRequirement already satisfied: setuptools in /usr/local/lib/python3.6/dist-packages (from mlxtend->pycaret) (50.3.0)\n",
            "Requirement already satisfied: smart-open>=1.2.1 in /usr/local/lib/python3.6/dist-packages (from gensim->pycaret) (2.2.0)\n",
            "Requirement already satisfied: pytz>=2017.2 in /usr/local/lib/python3.6/dist-packages (from pandas->pycaret) (2018.9)\n",
            "Requirement already satisfied: python-dateutil>=2.7.3 in /usr/local/lib/python3.6/dist-packages (from pandas->pycaret) (2.8.1)\n",
            "Requirement already satisfied: pillow in /usr/local/lib/python3.6/dist-packages (from wordcloud->pycaret) (7.0.0)\n",
            "Requirement already satisfied: retrying>=1.3.3 in /usr/local/lib/python3.6/dist-packages (from plotly>=4.4.1->pycaret) (1.3.3)\n",
            "Requirement already satisfied: cloudpickle in /usr/local/lib/python3.6/dist-packages (from mlflow->pycaret) (1.3.0)\n",
            "Requirement already satisfied: protobuf>=3.6.0 in /usr/local/lib/python3.6/dist-packages (from mlflow->pycaret) (3.12.4)\n",
            "Collecting gorilla\n",
            "  Downloading https://files.pythonhosted.org/packages/e3/56/5a683944cbfc77e429c6f03c636ca50504a785f60ffae91ddd7f5f7bb520/gorilla-0.3.0-py2.py3-none-any.whl\n",
            "Requirement already satisfied: Flask in /usr/local/lib/python3.6/dist-packages (from mlflow->pycaret) (1.1.2)\n",
            "Collecting alembic<=1.4.1\n",
            "\u001b[?25l  Downloading https://files.pythonhosted.org/packages/e0/e9/359dbb77c35c419df0aedeb1d53e71e7e3f438ff64a8fdb048c907404de3/alembic-1.4.1.tar.gz (1.1MB)\n",
            "\u001b[K     |████████████████████████████████| 1.1MB 45.4MB/s \n",
            "\u001b[?25hCollecting databricks-cli>=0.8.7\n",
            "\u001b[?25l  Downloading https://files.pythonhosted.org/packages/04/14/2a87ce410e9f6f93d6346b552f96416927d035c8c80fbbf4b0828c4580a7/databricks-cli-0.12.0.tar.gz (53kB)\n",
            "\u001b[K     |████████████████████████████████| 61kB 9.0MB/s \n",
            "\u001b[?25hRequirement already satisfied: click>=7.0 in /usr/local/lib/python3.6/dist-packages (from mlflow->pycaret) (7.1.2)\n",
            "Collecting sqlalchemy<=1.3.13\n",
            "\u001b[?25l  Downloading https://files.pythonhosted.org/packages/af/47/35edeb0f86c0b44934c05d961c893e223ef27e79e1f53b5e6f14820ff553/SQLAlchemy-1.3.13.tar.gz (6.0MB)\n",
            "\u001b[K     |████████████████████████████████| 6.0MB 34.9MB/s \n",
            "\u001b[?25hCollecting querystring-parser\n",
            "  Downloading https://files.pythonhosted.org/packages/4a/fa/f54f5662e0eababf0c49e92fd94bf178888562c0e7b677c8941bbbcd1bd6/querystring_parser-1.2.4.tar.gz\n",
            "Requirement already satisfied: pyyaml in /usr/local/lib/python3.6/dist-packages (from mlflow->pycaret) (3.13)\n",
            "Collecting gitpython>=2.1.0\n",
            "\u001b[?25l  Downloading https://files.pythonhosted.org/packages/c0/d7/b2b0672e0331567157adf9281f41ee731c412ee518ca5e6552c27fa73c91/GitPython-3.1.9-py3-none-any.whl (159kB)\n",
            "\u001b[K     |████████████████████████████████| 163kB 50.8MB/s \n",
            "\u001b[?25hRequirement already satisfied: sqlparse in /usr/local/lib/python3.6/dist-packages (from mlflow->pycaret) (0.3.1)\n",
            "Collecting gunicorn; platform_system != \"Windows\"\n",
            "\u001b[?25l  Downloading https://files.pythonhosted.org/packages/69/ca/926f7cd3a2014b16870086b2d0fdc84a9e49473c68a8dff8b57f7c156f43/gunicorn-20.0.4-py2.py3-none-any.whl (77kB)\n",
            "\u001b[K     |████████████████████████████████| 81kB 8.6MB/s \n",
            "\u001b[?25hCollecting azure-storage-blob>=12.0\n",
            "\u001b[?25l  Downloading https://files.pythonhosted.org/packages/b8/84/7e51b3e1156bcb89a20b9ec641d4fced4800aa79daac3a403898c32046be/azure_storage_blob-12.5.0-py2.py3-none-any.whl (326kB)\n",
            "\u001b[K     |████████████████████████████████| 327kB 51.1MB/s \n",
            "\u001b[?25hRequirement already satisfied: entrypoints in /usr/local/lib/python3.6/dist-packages (from mlflow->pycaret) (0.3)\n",
            "Collecting docker>=4.0.0\n",
            "\u001b[?25l  Downloading https://files.pythonhosted.org/packages/9e/8c/8d42dbd83679483db207535f4fb02dc84325fa78b290f057694b057fcd21/docker-4.3.1-py2.py3-none-any.whl (145kB)\n",
            "\u001b[K     |████████████████████████████████| 153kB 53.7MB/s \n",
            "\u001b[?25hCollecting prometheus-flask-exporter\n",
            "  Downloading https://files.pythonhosted.org/packages/37/45/dde8cc3aace904ae4e7963e7a17e3a21472460a8712b61dc2ddc1f69a55d/prometheus_flask_exporter-0.18.0.tar.gz\n",
            "Requirement already satisfied: regex>=2017.02.08 in /usr/local/lib/python3.6/dist-packages (from datefinder>=0.7.0->pycaret) (2019.12.20)\n",
            "Requirement already satisfied: colorlover>=0.2.1 in /usr/local/lib/python3.6/dist-packages (from cufflinks>=0.17.0->pycaret) (0.3.0)\n",
            "Requirement already satisfied: blis<0.5.0,>=0.4.0 in /usr/local/lib/python3.6/dist-packages (from spacy->pycaret) (0.4.1)\n",
            "Requirement already satisfied: wasabi<1.1.0,>=0.4.0 in /usr/local/lib/python3.6/dist-packages (from spacy->pycaret) (0.8.0)\n",
            "Requirement already satisfied: preshed<3.1.0,>=3.0.2 in /usr/local/lib/python3.6/dist-packages (from spacy->pycaret) (3.0.2)\n",
            "Requirement already satisfied: murmurhash<1.1.0,>=0.28.0 in /usr/local/lib/python3.6/dist-packages (from spacy->pycaret) (1.0.2)\n",
            "Requirement already satisfied: srsly<1.1.0,>=1.0.2 in /usr/local/lib/python3.6/dist-packages (from spacy->pycaret) (1.0.2)\n",
            "Requirement already satisfied: thinc==7.4.0 in /usr/local/lib/python3.6/dist-packages (from spacy->pycaret) (7.4.0)\n",
            "Requirement already satisfied: plac<1.2.0,>=0.9.6 in /usr/local/lib/python3.6/dist-packages (from spacy->pycaret) (1.1.3)\n",
            "Requirement already satisfied: catalogue<1.1.0,>=0.0.7 in /usr/local/lib/python3.6/dist-packages (from spacy->pycaret) (1.0.0)\n",
            "Requirement already satisfied: cymem<2.1.0,>=2.0.2 in /usr/local/lib/python3.6/dist-packages (from spacy->pycaret) (2.0.3)\n",
            "Requirement already satisfied: graphviz in /usr/local/lib/python3.6/dist-packages (from catboost>=0.23.2->pycaret) (0.10.1)\n",
            "Requirement already satisfied: wheel>=0.23.0 in /usr/local/lib/python3.6/dist-packages (from pyLDAvis->pycaret) (0.35.1)\n",
            "Requirement already satisfied: numexpr in /usr/local/lib/python3.6/dist-packages (from pyLDAvis->pycaret) (2.7.1)\n",
            "Requirement already satisfied: pytest in /usr/local/lib/python3.6/dist-packages (from pyLDAvis->pycaret) (3.6.4)\n",
            "Requirement already satisfied: future in /usr/local/lib/python3.6/dist-packages (from pyLDAvis->pycaret) (0.16.0)\n",
            "Collecting funcy\n",
            "  Downloading https://files.pythonhosted.org/packages/66/89/479de0afbbfb98d1c4b887936808764627300208bb771fcd823403645a36/funcy-1.15-py2.py3-none-any.whl\n",
            "Collecting combo\n",
            "  Downloading https://files.pythonhosted.org/packages/0a/2a/61b6ac584e75d8df16dc27962aa5fe99d76b09da5b6710e83d4862c84001/combo-0.1.1.tar.gz\n",
            "Requirement already satisfied: numba>=0.35 in /usr/local/lib/python3.6/dist-packages (from pyod->pycaret) (0.48.0)\n",
            "Requirement already satisfied: statsmodels in /usr/local/lib/python3.6/dist-packages (from pyod->pycaret) (0.10.2)\n",
            "Collecting suod\n",
            "\u001b[?25l  Downloading https://files.pythonhosted.org/packages/a1/87/9170cabe1b5e10a7d095c0e28f2e30e7c1886a13f063de85d3cfacc06f4b/suod-0.0.4.tar.gz (2.1MB)\n",
            "\u001b[K     |████████████████████████████████| 2.1MB 42.2MB/s \n",
            "\u001b[?25hRequirement already satisfied: pexpect; sys_platform != \"win32\" in /usr/local/lib/python3.6/dist-packages (from IPython->pycaret) (4.8.0)\n",
            "Requirement already satisfied: simplegeneric>0.8 in /usr/local/lib/python3.6/dist-packages (from IPython->pycaret) (0.8.1)\n",
            "Requirement already satisfied: prompt-toolkit<2.0.0,>=1.0.4 in /usr/local/lib/python3.6/dist-packages (from IPython->pycaret) (1.0.18)\n",
            "Requirement already satisfied: pickleshare in /usr/local/lib/python3.6/dist-packages (from IPython->pycaret) (0.7.5)\n",
            "Requirement already satisfied: decorator in /usr/local/lib/python3.6/dist-packages (from IPython->pycaret) (4.4.2)\n",
            "Requirement already satisfied: pygments in /usr/local/lib/python3.6/dist-packages (from IPython->pycaret) (2.6.1)\n",
            "Requirement already satisfied: traitlets>=4.2 in /usr/local/lib/python3.6/dist-packages (from IPython->pycaret) (4.3.3)\n",
            "Collecting threadpoolctl>=2.0.0\n",
            "  Downloading https://files.pythonhosted.org/packages/f7/12/ec3f2e203afa394a149911729357aa48affc59c20e2c1c8297a60f33f133/threadpoolctl-2.1.0-py3-none-any.whl\n",
            "Requirement already satisfied: nbformat>=4.2.0 in /usr/local/lib/python3.6/dist-packages (from ipywidgets->pycaret) (5.0.7)\n",
            "Requirement already satisfied: ipykernel>=4.5.1 in /usr/local/lib/python3.6/dist-packages (from ipywidgets->pycaret) (4.10.1)\n",
            "Requirement already satisfied: widgetsnbextension~=3.5.0 in /usr/local/lib/python3.6/dist-packages (from ipywidgets->pycaret) (3.5.1)\n",
            "Requirement already satisfied: pyparsing!=2.0.4,!=2.1.2,!=2.1.6,>=2.0.1 in /usr/local/lib/python3.6/dist-packages (from matplotlib->pycaret) (2.4.7)\n",
            "Requirement already satisfied: kiwisolver>=1.0.1 in /usr/local/lib/python3.6/dist-packages (from matplotlib->pycaret) (1.2.0)\n",
            "Requirement already satisfied: idna<3,>=2.5 in /usr/local/lib/python3.6/dist-packages (from requests>=2.23.0->pandas-profiling>=2.8.0->pycaret) (2.10)\n",
            "Requirement already satisfied: urllib3!=1.25.0,!=1.25.1,<1.26,>=1.21.1 in /usr/local/lib/python3.6/dist-packages (from requests>=2.23.0->pandas-profiling>=2.8.0->pycaret) (1.24.3)\n",
            "Requirement already satisfied: chardet<4,>=3.0.2 in /usr/local/lib/python3.6/dist-packages (from requests>=2.23.0->pandas-profiling>=2.8.0->pycaret) (3.0.4)\n",
            "Requirement already satisfied: certifi>=2017.4.17 in /usr/local/lib/python3.6/dist-packages (from requests>=2.23.0->pandas-profiling>=2.8.0->pycaret) (2020.6.20)\n",
            "Requirement already satisfied: MarkupSafe>=0.23 in /usr/local/lib/python3.6/dist-packages (from jinja2>=2.11.1->pandas-profiling>=2.8.0->pycaret) (1.1.1)\n",
            "Requirement already satisfied: networkx>=2.4 in /usr/local/lib/python3.6/dist-packages (from visions[type_image_path]==0.5.0->pandas-profiling>=2.8.0->pycaret) (2.5)\n",
            "Collecting imagehash; extra == \"type_image_path\"\n",
            "\u001b[?25l  Downloading https://files.pythonhosted.org/packages/1a/5d/cc81830be3c4705a46cdbca74439b67f1017881383ba0127c41c4cecb7b3/ImageHash-4.1.0.tar.gz (291kB)\n",
            "\u001b[K     |████████████████████████████████| 296kB 49.4MB/s \n",
            "\u001b[?25hRequirement already satisfied: itsdangerous>=0.24 in /usr/local/lib/python3.6/dist-packages (from Flask->mlflow->pycaret) (1.1.0)\n",
            "Requirement already satisfied: Werkzeug>=0.15 in /usr/local/lib/python3.6/dist-packages (from Flask->mlflow->pycaret) (1.0.1)\n",
            "Collecting Mako\n",
            "\u001b[?25l  Downloading https://files.pythonhosted.org/packages/a6/37/0e706200d22172eb8fa17d68a7ae22dec7631a0a92266634fb518a88a5b2/Mako-1.1.3-py2.py3-none-any.whl (75kB)\n",
            "\u001b[K     |████████████████████████████████| 81kB 10.0MB/s \n",
            "\u001b[?25hCollecting python-editor>=0.3\n",
            "  Downloading https://files.pythonhosted.org/packages/c6/d3/201fc3abe391bbae6606e6f1d598c15d367033332bd54352b12f35513717/python_editor-1.0.4-py3-none-any.whl\n",
            "Requirement already satisfied: tabulate>=0.7.7 in /usr/local/lib/python3.6/dist-packages (from databricks-cli>=0.8.7->mlflow->pycaret) (0.8.7)\n",
            "Collecting tenacity>=6.2.0\n",
            "  Downloading https://files.pythonhosted.org/packages/b5/05/ff089032442058bd3386f9cd991cd88ccac81dca1494d78751621ee35e62/tenacity-6.2.0-py2.py3-none-any.whl\n",
            "Collecting gitdb<5,>=4.0.1\n",
            "\u001b[?25l  Downloading https://files.pythonhosted.org/packages/48/11/d1800bca0a3bae820b84b7d813ad1eff15a48a64caea9c823fc8c1b119e8/gitdb-4.0.5-py3-none-any.whl (63kB)\n",
            "\u001b[K     |████████████████████████████████| 71kB 9.2MB/s \n",
            "\u001b[?25hCollecting cryptography>=2.1.4\n",
            "\u001b[?25l  Downloading https://files.pythonhosted.org/packages/33/62/30f6936941d87a5ed72efb24249437824f6b2c953901245b58c91fde2f27/cryptography-3.1.1-cp35-abi3-manylinux2010_x86_64.whl (2.6MB)\n",
            "\u001b[K     |████████████████████████████████| 2.6MB 44.0MB/s \n",
            "\u001b[?25hCollecting msrest>=0.6.10\n",
            "\u001b[?25l  Downloading https://files.pythonhosted.org/packages/fa/f5/9e315fe8cb985b0ce052b34bcb767883dc739f46fadb62f05a7e6d6eedbe/msrest-0.6.19-py2.py3-none-any.whl (84kB)\n",
            "\u001b[K     |████████████████████████████████| 92kB 11.8MB/s \n",
            "\u001b[?25hCollecting azure-core<2.0.0,>=1.6.0\n",
            "\u001b[?25l  Downloading https://files.pythonhosted.org/packages/9c/8c/6463dc620629d71c02f3f1a7dc30aab8e4f1a08ef64726cc3dd4f7949096/azure_core-1.8.1-py2.py3-none-any.whl (121kB)\n",
            "\u001b[K     |████████████████████████████████| 122kB 51.8MB/s \n",
            "\u001b[?25hCollecting websocket-client>=0.32.0\n",
            "\u001b[?25l  Downloading https://files.pythonhosted.org/packages/4c/5f/f61b420143ed1c8dc69f9eaec5ff1ac36109d52c80de49d66e0c36c3dfdf/websocket_client-0.57.0-py2.py3-none-any.whl (200kB)\n",
            "\u001b[K     |████████████████████████████████| 204kB 22.8MB/s \n",
            "\u001b[?25hRequirement already satisfied: prometheus_client in /usr/local/lib/python3.6/dist-packages (from prometheus-flask-exporter->mlflow->pycaret) (0.8.0)\n",
            "Requirement already satisfied: importlib-metadata>=0.20; python_version < \"3.8\" in /usr/local/lib/python3.6/dist-packages (from catalogue<1.1.0,>=0.0.7->spacy->pycaret) (2.0.0)\n",
            "Requirement already satisfied: more-itertools>=4.0.0 in /usr/local/lib/python3.6/dist-packages (from pytest->pyLDAvis->pycaret) (8.5.0)\n",
            "Requirement already satisfied: py>=1.5.0 in /usr/local/lib/python3.6/dist-packages (from pytest->pyLDAvis->pycaret) (1.9.0)\n",
            "Requirement already satisfied: pluggy<0.8,>=0.5 in /usr/local/lib/python3.6/dist-packages (from pytest->pyLDAvis->pycaret) (0.7.1)\n",
            "Requirement already satisfied: atomicwrites>=1.0 in /usr/local/lib/python3.6/dist-packages (from pytest->pyLDAvis->pycaret) (1.4.0)\n",
            "Requirement already satisfied: llvmlite<0.32.0,>=0.31.0dev0 in /usr/local/lib/python3.6/dist-packages (from numba>=0.35->pyod->pycaret) (0.31.0)\n",
            "Requirement already satisfied: patsy>=0.4.0 in /usr/local/lib/python3.6/dist-packages (from statsmodels->pyod->pycaret) (0.5.1)\n",
            "Requirement already satisfied: ptyprocess>=0.5 in /usr/local/lib/python3.6/dist-packages (from pexpect; sys_platform != \"win32\"->IPython->pycaret) (0.6.0)\n",
            "Requirement already satisfied: wcwidth in /usr/local/lib/python3.6/dist-packages (from prompt-toolkit<2.0.0,>=1.0.4->IPython->pycaret) (0.2.5)\n",
            "Requirement already satisfied: ipython-genutils in /usr/local/lib/python3.6/dist-packages (from traitlets>=4.2->IPython->pycaret) (0.2.0)\n",
            "Requirement already satisfied: jsonschema!=2.5.0,>=2.4 in /usr/local/lib/python3.6/dist-packages (from nbformat>=4.2.0->ipywidgets->pycaret) (2.6.0)\n",
            "Requirement already satisfied: jupyter-core in /usr/local/lib/python3.6/dist-packages (from nbformat>=4.2.0->ipywidgets->pycaret) (4.6.3)\n",
            "Requirement already satisfied: jupyter-client in /usr/local/lib/python3.6/dist-packages (from ipykernel>=4.5.1->ipywidgets->pycaret) (5.3.5)\n",
            "Requirement already satisfied: tornado>=4.0 in /usr/local/lib/python3.6/dist-packages (from ipykernel>=4.5.1->ipywidgets->pycaret) (5.1.1)\n",
            "Requirement already satisfied: notebook>=4.4.1 in /usr/local/lib/python3.6/dist-packages (from widgetsnbextension~=3.5.0->ipywidgets->pycaret) (5.3.1)\n",
            "Requirement already satisfied: PyWavelets in /usr/local/lib/python3.6/dist-packages (from imagehash; extra == \"type_image_path\"->visions[type_image_path]==0.5.0->pandas-profiling>=2.8.0->pycaret) (1.1.1)\n",
            "Collecting smmap<4,>=3.0.1\n",
            "  Downloading https://files.pythonhosted.org/packages/b0/9a/4d409a6234eb940e6a78dfdfc66156e7522262f5f2fecca07dc55915952d/smmap-3.0.4-py2.py3-none-any.whl\n",
            "Requirement already satisfied: cffi!=1.11.3,>=1.8 in /usr/local/lib/python3.6/dist-packages (from cryptography>=2.1.4->azure-storage-blob>=12.0->mlflow->pycaret) (1.14.3)\n",
            "Collecting isodate>=0.6.0\n",
            "\u001b[?25l  Downloading https://files.pythonhosted.org/packages/9b/9f/b36f7774ff5ea8e428fdcfc4bb332c39ee5b9362ddd3d40d9516a55221b2/isodate-0.6.0-py2.py3-none-any.whl (45kB)\n",
            "\u001b[K     |████████████████████████████████| 51kB 7.4MB/s \n",
            "\u001b[?25hRequirement already satisfied: requests-oauthlib>=0.5.0 in /usr/local/lib/python3.6/dist-packages (from msrest>=0.6.10->azure-storage-blob>=12.0->mlflow->pycaret) (1.3.0)\n",
            "Requirement already satisfied: zipp>=0.5 in /usr/local/lib/python3.6/dist-packages (from importlib-metadata>=0.20; python_version < \"3.8\"->catalogue<1.1.0,>=0.0.7->spacy->pycaret) (3.2.0)\n",
            "Requirement already satisfied: pyzmq>=13 in /usr/local/lib/python3.6/dist-packages (from jupyter-client->ipykernel>=4.5.1->ipywidgets->pycaret) (19.0.2)\n",
            "Requirement already satisfied: nbconvert in /usr/local/lib/python3.6/dist-packages (from notebook>=4.4.1->widgetsnbextension~=3.5.0->ipywidgets->pycaret) (5.6.1)\n",
            "Requirement already satisfied: terminado>=0.8.1 in /usr/local/lib/python3.6/dist-packages (from notebook>=4.4.1->widgetsnbextension~=3.5.0->ipywidgets->pycaret) (0.9.1)\n",
            "Requirement already satisfied: Send2Trash in /usr/local/lib/python3.6/dist-packages (from notebook>=4.4.1->widgetsnbextension~=3.5.0->ipywidgets->pycaret) (1.5.0)\n",
            "Requirement already satisfied: pycparser in /usr/local/lib/python3.6/dist-packages (from cffi!=1.11.3,>=1.8->cryptography>=2.1.4->azure-storage-blob>=12.0->mlflow->pycaret) (2.20)\n",
            "Requirement already satisfied: oauthlib>=3.0.0 in /usr/local/lib/python3.6/dist-packages (from requests-oauthlib>=0.5.0->msrest>=0.6.10->azure-storage-blob>=12.0->mlflow->pycaret) (3.1.0)\n",
            "Requirement already satisfied: pandocfilters>=1.4.1 in /usr/local/lib/python3.6/dist-packages (from nbconvert->notebook>=4.4.1->widgetsnbextension~=3.5.0->ipywidgets->pycaret) (1.4.2)\n",
            "Requirement already satisfied: mistune<2,>=0.8.1 in /usr/local/lib/python3.6/dist-packages (from nbconvert->notebook>=4.4.1->widgetsnbextension~=3.5.0->ipywidgets->pycaret) (0.8.4)\n",
            "Requirement already satisfied: bleach in /usr/local/lib/python3.6/dist-packages (from nbconvert->notebook>=4.4.1->widgetsnbextension~=3.5.0->ipywidgets->pycaret) (3.2.1)\n",
            "Requirement already satisfied: testpath in /usr/local/lib/python3.6/dist-packages (from nbconvert->notebook>=4.4.1->widgetsnbextension~=3.5.0->ipywidgets->pycaret) (0.4.4)\n",
            "Requirement already satisfied: defusedxml in /usr/local/lib/python3.6/dist-packages (from nbconvert->notebook>=4.4.1->widgetsnbextension~=3.5.0->ipywidgets->pycaret) (0.6.0)\n",
            "Requirement already satisfied: webencodings in /usr/local/lib/python3.6/dist-packages (from bleach->nbconvert->notebook>=4.4.1->widgetsnbextension~=3.5.0->ipywidgets->pycaret) (0.5.1)\n",
            "Requirement already satisfied: packaging in /usr/local/lib/python3.6/dist-packages (from bleach->nbconvert->notebook>=4.4.1->widgetsnbextension~=3.5.0->ipywidgets->pycaret) (20.4)\n",
            "Building wheels for collected packages: pyLDAvis, pyod, htmlmin, alembic, databricks-cli, sqlalchemy, querystring-parser, prometheus-flask-exporter, combo, suod, imagehash\n",
            "  Building wheel for pyLDAvis (setup.py) ... \u001b[?25l\u001b[?25hdone\n",
            "  Created wheel for pyLDAvis: filename=pyLDAvis-2.1.2-py2.py3-none-any.whl size=97712 sha256=1008df8dc082fccebb452399d87c8774388981c06ce29c58ed9d187f1b335072\n",
            "  Stored in directory: /root/.cache/pip/wheels/98/71/24/513a99e58bb6b8465bae4d2d5e9dba8f0bef8179e3051ac414\n",
            "  Building wheel for pyod (setup.py) ... \u001b[?25l\u001b[?25hdone\n",
            "  Created wheel for pyod: filename=pyod-0.8.3-cp36-none-any.whl size=110349 sha256=eb0316b22c2bdeda9b751341365bec4ccd6716e2cdc9e51d9046c84d83735d87\n",
            "  Stored in directory: /root/.cache/pip/wheels/29/46/95/86facd235cce1d58ae6747ab1aea2b3742564325a66a60863a\n",
            "  Building wheel for htmlmin (setup.py) ... \u001b[?25l\u001b[?25hdone\n",
            "  Created wheel for htmlmin: filename=htmlmin-0.1.12-cp36-none-any.whl size=27085 sha256=0dda1fc3ca7dd59c7a85fb666b38efe5175a26dd2dc9c72599388d1389b543c5\n",
            "  Stored in directory: /root/.cache/pip/wheels/43/07/ac/7c5a9d708d65247ac1f94066cf1db075540b85716c30255459\n",
            "  Building wheel for alembic (setup.py) ... \u001b[?25l\u001b[?25hdone\n",
            "  Created wheel for alembic: filename=alembic-1.4.1-py2.py3-none-any.whl size=158155 sha256=bb4fbd12f93c2b7fe7bbb12e2a47aaecbd2ea5dfe1df486fdd755bc6075f7c98\n",
            "  Stored in directory: /root/.cache/pip/wheels/84/07/f7/12f7370ca47a66030c2edeedcc23dec26ea0ac22dcb4c4a0f3\n",
            "  Building wheel for databricks-cli (setup.py) ... \u001b[?25l\u001b[?25hdone\n",
            "  Created wheel for databricks-cli: filename=databricks_cli-0.12.0-cp36-none-any.whl size=99634 sha256=305d043bce2fbf4a7e59383b9fcf38ad748786a56b2175843d2c742dac45e376\n",
            "  Stored in directory: /root/.cache/pip/wheels/da/9c/3e/394efead2cb8858205486bb34de2646f83416ae0494e4ecc5b\n",
            "  Building wheel for sqlalchemy (setup.py) ... \u001b[?25l\u001b[?25hdone\n",
            "  Created wheel for sqlalchemy: filename=SQLAlchemy-1.3.13-cp36-cp36m-linux_x86_64.whl size=1217123 sha256=ad89a30a9553f7d4cb087956ed55f91f9a82d9a5c55f171d7e7e346420d4bd97\n",
            "  Stored in directory: /root/.cache/pip/wheels/b3/35/98/4c9cb3fd63d21d5606b972dd70643769745adf60e622467b71\n",
            "  Building wheel for querystring-parser (setup.py) ... \u001b[?25l\u001b[?25hdone\n",
            "  Created wheel for querystring-parser: filename=querystring_parser-1.2.4-cp36-none-any.whl size=7078 sha256=7967077b2730de79c684ad8c82a1e5c94be4ac638b4952a4b99004e0de4705fd\n",
            "  Stored in directory: /root/.cache/pip/wheels/1e/41/34/23ebf5d1089a9aed847951e0ee375426eb4ad0a7079d88d41e\n",
            "  Building wheel for prometheus-flask-exporter (setup.py) ... \u001b[?25l\u001b[?25hdone\n",
            "  Created wheel for prometheus-flask-exporter: filename=prometheus_flask_exporter-0.18.0-cp36-none-any.whl size=17154 sha256=89d71ad787234a79b4b746af7e27df5029f32425609d5d9151420f325d5cdd3e\n",
            "  Stored in directory: /root/.cache/pip/wheels/52/36/b1/dc7f24d2b5847a17b66ee4a598bab4a18947f614050b0c333f\n",
            "  Building wheel for combo (setup.py) ... \u001b[?25l\u001b[?25hdone\n",
            "  Created wheel for combo: filename=combo-0.1.1-cp36-none-any.whl size=42113 sha256=fe06c432c7ba323ba1b84c4521c88f5e97926c3f0d04358c221b942b7ea3716a\n",
            "  Stored in directory: /root/.cache/pip/wheels/55/ec/e5/a2331372c676c467e70c6646e646edf6997d5c4905b8c0f5e6\n",
            "  Building wheel for suod (setup.py) ... \u001b[?25l\u001b[?25hdone\n",
            "  Created wheel for suod: filename=suod-0.0.4-cp36-none-any.whl size=2167158 sha256=d1ad51bd4498bc82c2ecc026acdb91d4f10b62238aff22b4f487755eef96a677\n",
            "  Stored in directory: /root/.cache/pip/wheels/57/55/e5/a4fca65bba231f6d0115059b589148774b41faea25b3f2aa27\n",
            "  Building wheel for imagehash (setup.py) ... \u001b[?25l\u001b[?25hdone\n",
            "  Created wheel for imagehash: filename=ImageHash-4.1.0-py2.py3-none-any.whl size=291991 sha256=3409a158bd611738205cb8208803076a20ac068ec6e6ea41e0fac76469009f1e\n",
            "  Stored in directory: /root/.cache/pip/wheels/07/1c/dc/6831446f09feb8cc199ec73a0f2f0703253f6ae013a22f4be9\n",
            "Successfully built pyLDAvis pyod htmlmin alembic databricks-cli sqlalchemy querystring-parser prometheus-flask-exporter combo suod imagehash\n",
            "Installing collected packages: threadpoolctl, scikit-learn, yellowbrick, tangled-up-in-unicode, tqdm, confuse, imagehash, visions, htmlmin, phik, pandas-profiling, gorilla, sqlalchemy, Mako, python-editor, alembic, tenacity, databricks-cli, querystring-parser, smmap, gitdb, gitpython, gunicorn, cryptography, isodate, msrest, azure-core, azure-storage-blob, websocket-client, docker, prometheus-flask-exporter, mlflow, datefinder, catboost, funcy, pyLDAvis, combo, suod, pyod, imbalanced-learn, lightgbm, kmodes, pycaret\n",
            "  Found existing installation: scikit-learn 0.22.2.post1\n",
            "    Uninstalling scikit-learn-0.22.2.post1:\n",
            "      Successfully uninstalled scikit-learn-0.22.2.post1\n",
            "  Found existing installation: yellowbrick 0.9.1\n",
            "    Uninstalling yellowbrick-0.9.1:\n",
            "      Successfully uninstalled yellowbrick-0.9.1\n",
            "  Found existing installation: tqdm 4.41.1\n",
            "    Uninstalling tqdm-4.41.1:\n",
            "      Successfully uninstalled tqdm-4.41.1\n",
            "  Found existing installation: pandas-profiling 1.4.1\n",
            "    Uninstalling pandas-profiling-1.4.1:\n",
            "      Successfully uninstalled pandas-profiling-1.4.1\n",
            "  Found existing installation: SQLAlchemy 1.3.19\n",
            "    Uninstalling SQLAlchemy-1.3.19:\n",
            "      Successfully uninstalled SQLAlchemy-1.3.19\n",
            "  Found existing installation: imbalanced-learn 0.4.3\n",
            "    Uninstalling imbalanced-learn-0.4.3:\n",
            "      Successfully uninstalled imbalanced-learn-0.4.3\n",
            "  Found existing installation: lightgbm 2.2.3\n",
            "    Uninstalling lightgbm-2.2.3:\n",
            "      Successfully uninstalled lightgbm-2.2.3\n",
            "Successfully installed Mako-1.1.3 alembic-1.4.1 azure-core-1.8.1 azure-storage-blob-12.5.0 catboost-0.24.1 combo-0.1.1 confuse-1.3.0 cryptography-3.1.1 databricks-cli-0.12.0 datefinder-0.7.1 docker-4.3.1 funcy-1.15 gitdb-4.0.5 gitpython-3.1.9 gorilla-0.3.0 gunicorn-20.0.4 htmlmin-0.1.12 imagehash-4.1.0 imbalanced-learn-0.7.0 isodate-0.6.0 kmodes-0.10.2 lightgbm-3.0.0 mlflow-1.11.0 msrest-0.6.19 pandas-profiling-2.9.0 phik-0.10.0 prometheus-flask-exporter-0.18.0 pyLDAvis-2.1.2 pycaret-2.1.2 pyod-0.8.3 python-editor-1.0.4 querystring-parser-1.2.4 scikit-learn-0.23.2 smmap-3.0.4 sqlalchemy-1.3.13 suod-0.0.4 tangled-up-in-unicode-0.0.6 tenacity-6.2.0 threadpoolctl-2.1.0 tqdm-4.50.0 visions-0.5.0 websocket-client-0.57.0 yellowbrick-1.1\n"
          ],
          "name": "stdout"
        },
        {
          "output_type": "display_data",
          "data": {
            "application/vnd.colab-display-data+json": {
              "pip_warning": {
                "packages": [
                  "sklearn"
                ]
              }
            }
          },
          "metadata": {
            "tags": []
          }
        }
      ]
    },
    {
      "cell_type": "code",
      "metadata": {
        "id": "2r7K2Ppmjz4M",
        "outputId": "3be428d1-d5a7-4e74-8a25-0df053dbe8b4",
        "colab": {
          "base_uri": "https://localhost:8080/",
          "height": 973,
          "referenced_widgets": [
            "7fc441ed57c742d38f508b2d2937eafb",
            "2bb0ee9c10914bf9833492a0bb38c8d4",
            "d9f81873c5f14e3f9f7f5e86976fbd55",
            "2b82dfe60d7246b5b863bbb01231d902",
            "5d2e1d457d65418fa01c0f5529cc18ef",
            "0f40fb0b185d4c25b2e48bf2b45599e0"
          ]
        }
      },
      "source": [
        "from pycaret.regression import setup, compare_models\n",
        "experiment = setup(df, target = 'Item_Outlet_Sales')"
      ],
      "execution_count": null,
      "outputs": [
        {
          "output_type": "stream",
          "text": [
            " \n",
            "Setup Succesfully Completed.\n"
          ],
          "name": "stdout"
        },
        {
          "output_type": "display_data",
          "data": {
            "text/html": [
              "<style  type=\"text/css\" >\n",
              "</style><table id=\"T_3b59826e_0399_11eb_81d5_0242ac1c0002\" ><thead>    <tr>        <th class=\"blank level0\" ></th>        <th class=\"col_heading level0 col0\" >Description</th>        <th class=\"col_heading level0 col1\" >Value</th>    </tr></thead><tbody>\n",
              "                <tr>\n",
              "                        <th id=\"T_3b59826e_0399_11eb_81d5_0242ac1c0002level0_row0\" class=\"row_heading level0 row0\" >0</th>\n",
              "                        <td id=\"T_3b59826e_0399_11eb_81d5_0242ac1c0002row0_col0\" class=\"data row0 col0\" >session_id</td>\n",
              "                        <td id=\"T_3b59826e_0399_11eb_81d5_0242ac1c0002row0_col1\" class=\"data row0 col1\" >703</td>\n",
              "            </tr>\n",
              "            <tr>\n",
              "                        <th id=\"T_3b59826e_0399_11eb_81d5_0242ac1c0002level0_row1\" class=\"row_heading level0 row1\" >1</th>\n",
              "                        <td id=\"T_3b59826e_0399_11eb_81d5_0242ac1c0002row1_col0\" class=\"data row1 col0\" >Transform Target </td>\n",
              "                        <td id=\"T_3b59826e_0399_11eb_81d5_0242ac1c0002row1_col1\" class=\"data row1 col1\" >False</td>\n",
              "            </tr>\n",
              "            <tr>\n",
              "                        <th id=\"T_3b59826e_0399_11eb_81d5_0242ac1c0002level0_row2\" class=\"row_heading level0 row2\" >2</th>\n",
              "                        <td id=\"T_3b59826e_0399_11eb_81d5_0242ac1c0002row2_col0\" class=\"data row2 col0\" >Transform Target Method</td>\n",
              "                        <td id=\"T_3b59826e_0399_11eb_81d5_0242ac1c0002row2_col1\" class=\"data row2 col1\" >None</td>\n",
              "            </tr>\n",
              "            <tr>\n",
              "                        <th id=\"T_3b59826e_0399_11eb_81d5_0242ac1c0002level0_row3\" class=\"row_heading level0 row3\" >3</th>\n",
              "                        <td id=\"T_3b59826e_0399_11eb_81d5_0242ac1c0002row3_col0\" class=\"data row3 col0\" >Original Data</td>\n",
              "                        <td id=\"T_3b59826e_0399_11eb_81d5_0242ac1c0002row3_col1\" class=\"data row3 col1\" >(8523, 12)</td>\n",
              "            </tr>\n",
              "            <tr>\n",
              "                        <th id=\"T_3b59826e_0399_11eb_81d5_0242ac1c0002level0_row4\" class=\"row_heading level0 row4\" >4</th>\n",
              "                        <td id=\"T_3b59826e_0399_11eb_81d5_0242ac1c0002row4_col0\" class=\"data row4 col0\" >Missing Values </td>\n",
              "                        <td id=\"T_3b59826e_0399_11eb_81d5_0242ac1c0002row4_col1\" class=\"data row4 col1\" >False</td>\n",
              "            </tr>\n",
              "            <tr>\n",
              "                        <th id=\"T_3b59826e_0399_11eb_81d5_0242ac1c0002level0_row5\" class=\"row_heading level0 row5\" >5</th>\n",
              "                        <td id=\"T_3b59826e_0399_11eb_81d5_0242ac1c0002row5_col0\" class=\"data row5 col0\" >Numeric Features </td>\n",
              "                        <td id=\"T_3b59826e_0399_11eb_81d5_0242ac1c0002row5_col1\" class=\"data row5 col1\" >4</td>\n",
              "            </tr>\n",
              "            <tr>\n",
              "                        <th id=\"T_3b59826e_0399_11eb_81d5_0242ac1c0002level0_row6\" class=\"row_heading level0 row6\" >6</th>\n",
              "                        <td id=\"T_3b59826e_0399_11eb_81d5_0242ac1c0002row6_col0\" class=\"data row6 col0\" >Categorical Features </td>\n",
              "                        <td id=\"T_3b59826e_0399_11eb_81d5_0242ac1c0002row6_col1\" class=\"data row6 col1\" >7</td>\n",
              "            </tr>\n",
              "            <tr>\n",
              "                        <th id=\"T_3b59826e_0399_11eb_81d5_0242ac1c0002level0_row7\" class=\"row_heading level0 row7\" >7</th>\n",
              "                        <td id=\"T_3b59826e_0399_11eb_81d5_0242ac1c0002row7_col0\" class=\"data row7 col0\" >Ordinal Features </td>\n",
              "                        <td id=\"T_3b59826e_0399_11eb_81d5_0242ac1c0002row7_col1\" class=\"data row7 col1\" >False</td>\n",
              "            </tr>\n",
              "            <tr>\n",
              "                        <th id=\"T_3b59826e_0399_11eb_81d5_0242ac1c0002level0_row8\" class=\"row_heading level0 row8\" >8</th>\n",
              "                        <td id=\"T_3b59826e_0399_11eb_81d5_0242ac1c0002row8_col0\" class=\"data row8 col0\" >High Cardinality Features </td>\n",
              "                        <td id=\"T_3b59826e_0399_11eb_81d5_0242ac1c0002row8_col1\" class=\"data row8 col1\" >False</td>\n",
              "            </tr>\n",
              "            <tr>\n",
              "                        <th id=\"T_3b59826e_0399_11eb_81d5_0242ac1c0002level0_row9\" class=\"row_heading level0 row9\" >9</th>\n",
              "                        <td id=\"T_3b59826e_0399_11eb_81d5_0242ac1c0002row9_col0\" class=\"data row9 col0\" >High Cardinality Method </td>\n",
              "                        <td id=\"T_3b59826e_0399_11eb_81d5_0242ac1c0002row9_col1\" class=\"data row9 col1\" >None</td>\n",
              "            </tr>\n",
              "            <tr>\n",
              "                        <th id=\"T_3b59826e_0399_11eb_81d5_0242ac1c0002level0_row10\" class=\"row_heading level0 row10\" >10</th>\n",
              "                        <td id=\"T_3b59826e_0399_11eb_81d5_0242ac1c0002row10_col0\" class=\"data row10 col0\" >Sampled Data</td>\n",
              "                        <td id=\"T_3b59826e_0399_11eb_81d5_0242ac1c0002row10_col1\" class=\"data row10 col1\" >(8523, 12)</td>\n",
              "            </tr>\n",
              "            <tr>\n",
              "                        <th id=\"T_3b59826e_0399_11eb_81d5_0242ac1c0002level0_row11\" class=\"row_heading level0 row11\" >11</th>\n",
              "                        <td id=\"T_3b59826e_0399_11eb_81d5_0242ac1c0002row11_col0\" class=\"data row11 col0\" >Transformed Train Set</td>\n",
              "                        <td id=\"T_3b59826e_0399_11eb_81d5_0242ac1c0002row11_col1\" class=\"data row11 col1\" >(5966, 51)</td>\n",
              "            </tr>\n",
              "            <tr>\n",
              "                        <th id=\"T_3b59826e_0399_11eb_81d5_0242ac1c0002level0_row12\" class=\"row_heading level0 row12\" >12</th>\n",
              "                        <td id=\"T_3b59826e_0399_11eb_81d5_0242ac1c0002row12_col0\" class=\"data row12 col0\" >Transformed Test Set</td>\n",
              "                        <td id=\"T_3b59826e_0399_11eb_81d5_0242ac1c0002row12_col1\" class=\"data row12 col1\" >(2557, 51)</td>\n",
              "            </tr>\n",
              "            <tr>\n",
              "                        <th id=\"T_3b59826e_0399_11eb_81d5_0242ac1c0002level0_row13\" class=\"row_heading level0 row13\" >13</th>\n",
              "                        <td id=\"T_3b59826e_0399_11eb_81d5_0242ac1c0002row13_col0\" class=\"data row13 col0\" >Numeric Imputer </td>\n",
              "                        <td id=\"T_3b59826e_0399_11eb_81d5_0242ac1c0002row13_col1\" class=\"data row13 col1\" >mean</td>\n",
              "            </tr>\n",
              "            <tr>\n",
              "                        <th id=\"T_3b59826e_0399_11eb_81d5_0242ac1c0002level0_row14\" class=\"row_heading level0 row14\" >14</th>\n",
              "                        <td id=\"T_3b59826e_0399_11eb_81d5_0242ac1c0002row14_col0\" class=\"data row14 col0\" >Categorical Imputer </td>\n",
              "                        <td id=\"T_3b59826e_0399_11eb_81d5_0242ac1c0002row14_col1\" class=\"data row14 col1\" >constant</td>\n",
              "            </tr>\n",
              "            <tr>\n",
              "                        <th id=\"T_3b59826e_0399_11eb_81d5_0242ac1c0002level0_row15\" class=\"row_heading level0 row15\" >15</th>\n",
              "                        <td id=\"T_3b59826e_0399_11eb_81d5_0242ac1c0002row15_col0\" class=\"data row15 col0\" >Normalize </td>\n",
              "                        <td id=\"T_3b59826e_0399_11eb_81d5_0242ac1c0002row15_col1\" class=\"data row15 col1\" >False</td>\n",
              "            </tr>\n",
              "            <tr>\n",
              "                        <th id=\"T_3b59826e_0399_11eb_81d5_0242ac1c0002level0_row16\" class=\"row_heading level0 row16\" >16</th>\n",
              "                        <td id=\"T_3b59826e_0399_11eb_81d5_0242ac1c0002row16_col0\" class=\"data row16 col0\" >Normalize Method </td>\n",
              "                        <td id=\"T_3b59826e_0399_11eb_81d5_0242ac1c0002row16_col1\" class=\"data row16 col1\" >None</td>\n",
              "            </tr>\n",
              "            <tr>\n",
              "                        <th id=\"T_3b59826e_0399_11eb_81d5_0242ac1c0002level0_row17\" class=\"row_heading level0 row17\" >17</th>\n",
              "                        <td id=\"T_3b59826e_0399_11eb_81d5_0242ac1c0002row17_col0\" class=\"data row17 col0\" >Transformation </td>\n",
              "                        <td id=\"T_3b59826e_0399_11eb_81d5_0242ac1c0002row17_col1\" class=\"data row17 col1\" >False</td>\n",
              "            </tr>\n",
              "            <tr>\n",
              "                        <th id=\"T_3b59826e_0399_11eb_81d5_0242ac1c0002level0_row18\" class=\"row_heading level0 row18\" >18</th>\n",
              "                        <td id=\"T_3b59826e_0399_11eb_81d5_0242ac1c0002row18_col0\" class=\"data row18 col0\" >Transformation Method </td>\n",
              "                        <td id=\"T_3b59826e_0399_11eb_81d5_0242ac1c0002row18_col1\" class=\"data row18 col1\" >None</td>\n",
              "            </tr>\n",
              "            <tr>\n",
              "                        <th id=\"T_3b59826e_0399_11eb_81d5_0242ac1c0002level0_row19\" class=\"row_heading level0 row19\" >19</th>\n",
              "                        <td id=\"T_3b59826e_0399_11eb_81d5_0242ac1c0002row19_col0\" class=\"data row19 col0\" >PCA </td>\n",
              "                        <td id=\"T_3b59826e_0399_11eb_81d5_0242ac1c0002row19_col1\" class=\"data row19 col1\" >False</td>\n",
              "            </tr>\n",
              "            <tr>\n",
              "                        <th id=\"T_3b59826e_0399_11eb_81d5_0242ac1c0002level0_row20\" class=\"row_heading level0 row20\" >20</th>\n",
              "                        <td id=\"T_3b59826e_0399_11eb_81d5_0242ac1c0002row20_col0\" class=\"data row20 col0\" >PCA Method </td>\n",
              "                        <td id=\"T_3b59826e_0399_11eb_81d5_0242ac1c0002row20_col1\" class=\"data row20 col1\" >None</td>\n",
              "            </tr>\n",
              "            <tr>\n",
              "                        <th id=\"T_3b59826e_0399_11eb_81d5_0242ac1c0002level0_row21\" class=\"row_heading level0 row21\" >21</th>\n",
              "                        <td id=\"T_3b59826e_0399_11eb_81d5_0242ac1c0002row21_col0\" class=\"data row21 col0\" >PCA Components </td>\n",
              "                        <td id=\"T_3b59826e_0399_11eb_81d5_0242ac1c0002row21_col1\" class=\"data row21 col1\" >None</td>\n",
              "            </tr>\n",
              "            <tr>\n",
              "                        <th id=\"T_3b59826e_0399_11eb_81d5_0242ac1c0002level0_row22\" class=\"row_heading level0 row22\" >22</th>\n",
              "                        <td id=\"T_3b59826e_0399_11eb_81d5_0242ac1c0002row22_col0\" class=\"data row22 col0\" >Ignore Low Variance </td>\n",
              "                        <td id=\"T_3b59826e_0399_11eb_81d5_0242ac1c0002row22_col1\" class=\"data row22 col1\" >False</td>\n",
              "            </tr>\n",
              "            <tr>\n",
              "                        <th id=\"T_3b59826e_0399_11eb_81d5_0242ac1c0002level0_row23\" class=\"row_heading level0 row23\" >23</th>\n",
              "                        <td id=\"T_3b59826e_0399_11eb_81d5_0242ac1c0002row23_col0\" class=\"data row23 col0\" >Combine Rare Levels </td>\n",
              "                        <td id=\"T_3b59826e_0399_11eb_81d5_0242ac1c0002row23_col1\" class=\"data row23 col1\" >False</td>\n",
              "            </tr>\n",
              "            <tr>\n",
              "                        <th id=\"T_3b59826e_0399_11eb_81d5_0242ac1c0002level0_row24\" class=\"row_heading level0 row24\" >24</th>\n",
              "                        <td id=\"T_3b59826e_0399_11eb_81d5_0242ac1c0002row24_col0\" class=\"data row24 col0\" >Rare Level Threshold </td>\n",
              "                        <td id=\"T_3b59826e_0399_11eb_81d5_0242ac1c0002row24_col1\" class=\"data row24 col1\" >None</td>\n",
              "            </tr>\n",
              "            <tr>\n",
              "                        <th id=\"T_3b59826e_0399_11eb_81d5_0242ac1c0002level0_row25\" class=\"row_heading level0 row25\" >25</th>\n",
              "                        <td id=\"T_3b59826e_0399_11eb_81d5_0242ac1c0002row25_col0\" class=\"data row25 col0\" >Numeric Binning </td>\n",
              "                        <td id=\"T_3b59826e_0399_11eb_81d5_0242ac1c0002row25_col1\" class=\"data row25 col1\" >False</td>\n",
              "            </tr>\n",
              "            <tr>\n",
              "                        <th id=\"T_3b59826e_0399_11eb_81d5_0242ac1c0002level0_row26\" class=\"row_heading level0 row26\" >26</th>\n",
              "                        <td id=\"T_3b59826e_0399_11eb_81d5_0242ac1c0002row26_col0\" class=\"data row26 col0\" >Remove Outliers </td>\n",
              "                        <td id=\"T_3b59826e_0399_11eb_81d5_0242ac1c0002row26_col1\" class=\"data row26 col1\" >False</td>\n",
              "            </tr>\n",
              "            <tr>\n",
              "                        <th id=\"T_3b59826e_0399_11eb_81d5_0242ac1c0002level0_row27\" class=\"row_heading level0 row27\" >27</th>\n",
              "                        <td id=\"T_3b59826e_0399_11eb_81d5_0242ac1c0002row27_col0\" class=\"data row27 col0\" >Outliers Threshold </td>\n",
              "                        <td id=\"T_3b59826e_0399_11eb_81d5_0242ac1c0002row27_col1\" class=\"data row27 col1\" >None</td>\n",
              "            </tr>\n",
              "            <tr>\n",
              "                        <th id=\"T_3b59826e_0399_11eb_81d5_0242ac1c0002level0_row28\" class=\"row_heading level0 row28\" >28</th>\n",
              "                        <td id=\"T_3b59826e_0399_11eb_81d5_0242ac1c0002row28_col0\" class=\"data row28 col0\" >Remove Multicollinearity </td>\n",
              "                        <td id=\"T_3b59826e_0399_11eb_81d5_0242ac1c0002row28_col1\" class=\"data row28 col1\" >False</td>\n",
              "            </tr>\n",
              "            <tr>\n",
              "                        <th id=\"T_3b59826e_0399_11eb_81d5_0242ac1c0002level0_row29\" class=\"row_heading level0 row29\" >29</th>\n",
              "                        <td id=\"T_3b59826e_0399_11eb_81d5_0242ac1c0002row29_col0\" class=\"data row29 col0\" >Multicollinearity Threshold </td>\n",
              "                        <td id=\"T_3b59826e_0399_11eb_81d5_0242ac1c0002row29_col1\" class=\"data row29 col1\" >None</td>\n",
              "            </tr>\n",
              "            <tr>\n",
              "                        <th id=\"T_3b59826e_0399_11eb_81d5_0242ac1c0002level0_row30\" class=\"row_heading level0 row30\" >30</th>\n",
              "                        <td id=\"T_3b59826e_0399_11eb_81d5_0242ac1c0002row30_col0\" class=\"data row30 col0\" >Clustering </td>\n",
              "                        <td id=\"T_3b59826e_0399_11eb_81d5_0242ac1c0002row30_col1\" class=\"data row30 col1\" >False</td>\n",
              "            </tr>\n",
              "            <tr>\n",
              "                        <th id=\"T_3b59826e_0399_11eb_81d5_0242ac1c0002level0_row31\" class=\"row_heading level0 row31\" >31</th>\n",
              "                        <td id=\"T_3b59826e_0399_11eb_81d5_0242ac1c0002row31_col0\" class=\"data row31 col0\" >Clustering Iteration </td>\n",
              "                        <td id=\"T_3b59826e_0399_11eb_81d5_0242ac1c0002row31_col1\" class=\"data row31 col1\" >None</td>\n",
              "            </tr>\n",
              "            <tr>\n",
              "                        <th id=\"T_3b59826e_0399_11eb_81d5_0242ac1c0002level0_row32\" class=\"row_heading level0 row32\" >32</th>\n",
              "                        <td id=\"T_3b59826e_0399_11eb_81d5_0242ac1c0002row32_col0\" class=\"data row32 col0\" >Polynomial Features </td>\n",
              "                        <td id=\"T_3b59826e_0399_11eb_81d5_0242ac1c0002row32_col1\" class=\"data row32 col1\" >False</td>\n",
              "            </tr>\n",
              "            <tr>\n",
              "                        <th id=\"T_3b59826e_0399_11eb_81d5_0242ac1c0002level0_row33\" class=\"row_heading level0 row33\" >33</th>\n",
              "                        <td id=\"T_3b59826e_0399_11eb_81d5_0242ac1c0002row33_col0\" class=\"data row33 col0\" >Polynomial Degree </td>\n",
              "                        <td id=\"T_3b59826e_0399_11eb_81d5_0242ac1c0002row33_col1\" class=\"data row33 col1\" >None</td>\n",
              "            </tr>\n",
              "            <tr>\n",
              "                        <th id=\"T_3b59826e_0399_11eb_81d5_0242ac1c0002level0_row34\" class=\"row_heading level0 row34\" >34</th>\n",
              "                        <td id=\"T_3b59826e_0399_11eb_81d5_0242ac1c0002row34_col0\" class=\"data row34 col0\" >Trignometry Features </td>\n",
              "                        <td id=\"T_3b59826e_0399_11eb_81d5_0242ac1c0002row34_col1\" class=\"data row34 col1\" >False</td>\n",
              "            </tr>\n",
              "            <tr>\n",
              "                        <th id=\"T_3b59826e_0399_11eb_81d5_0242ac1c0002level0_row35\" class=\"row_heading level0 row35\" >35</th>\n",
              "                        <td id=\"T_3b59826e_0399_11eb_81d5_0242ac1c0002row35_col0\" class=\"data row35 col0\" >Polynomial Threshold </td>\n",
              "                        <td id=\"T_3b59826e_0399_11eb_81d5_0242ac1c0002row35_col1\" class=\"data row35 col1\" >None</td>\n",
              "            </tr>\n",
              "            <tr>\n",
              "                        <th id=\"T_3b59826e_0399_11eb_81d5_0242ac1c0002level0_row36\" class=\"row_heading level0 row36\" >36</th>\n",
              "                        <td id=\"T_3b59826e_0399_11eb_81d5_0242ac1c0002row36_col0\" class=\"data row36 col0\" >Group Features </td>\n",
              "                        <td id=\"T_3b59826e_0399_11eb_81d5_0242ac1c0002row36_col1\" class=\"data row36 col1\" >False</td>\n",
              "            </tr>\n",
              "            <tr>\n",
              "                        <th id=\"T_3b59826e_0399_11eb_81d5_0242ac1c0002level0_row37\" class=\"row_heading level0 row37\" >37</th>\n",
              "                        <td id=\"T_3b59826e_0399_11eb_81d5_0242ac1c0002row37_col0\" class=\"data row37 col0\" >Feature Selection </td>\n",
              "                        <td id=\"T_3b59826e_0399_11eb_81d5_0242ac1c0002row37_col1\" class=\"data row37 col1\" >False</td>\n",
              "            </tr>\n",
              "            <tr>\n",
              "                        <th id=\"T_3b59826e_0399_11eb_81d5_0242ac1c0002level0_row38\" class=\"row_heading level0 row38\" >38</th>\n",
              "                        <td id=\"T_3b59826e_0399_11eb_81d5_0242ac1c0002row38_col0\" class=\"data row38 col0\" >Features Selection Threshold </td>\n",
              "                        <td id=\"T_3b59826e_0399_11eb_81d5_0242ac1c0002row38_col1\" class=\"data row38 col1\" >None</td>\n",
              "            </tr>\n",
              "            <tr>\n",
              "                        <th id=\"T_3b59826e_0399_11eb_81d5_0242ac1c0002level0_row39\" class=\"row_heading level0 row39\" >39</th>\n",
              "                        <td id=\"T_3b59826e_0399_11eb_81d5_0242ac1c0002row39_col0\" class=\"data row39 col0\" >Feature Interaction </td>\n",
              "                        <td id=\"T_3b59826e_0399_11eb_81d5_0242ac1c0002row39_col1\" class=\"data row39 col1\" >False</td>\n",
              "            </tr>\n",
              "            <tr>\n",
              "                        <th id=\"T_3b59826e_0399_11eb_81d5_0242ac1c0002level0_row40\" class=\"row_heading level0 row40\" >40</th>\n",
              "                        <td id=\"T_3b59826e_0399_11eb_81d5_0242ac1c0002row40_col0\" class=\"data row40 col0\" >Feature Ratio </td>\n",
              "                        <td id=\"T_3b59826e_0399_11eb_81d5_0242ac1c0002row40_col1\" class=\"data row40 col1\" >False</td>\n",
              "            </tr>\n",
              "            <tr>\n",
              "                        <th id=\"T_3b59826e_0399_11eb_81d5_0242ac1c0002level0_row41\" class=\"row_heading level0 row41\" >41</th>\n",
              "                        <td id=\"T_3b59826e_0399_11eb_81d5_0242ac1c0002row41_col0\" class=\"data row41 col0\" >Interaction Threshold </td>\n",
              "                        <td id=\"T_3b59826e_0399_11eb_81d5_0242ac1c0002row41_col1\" class=\"data row41 col1\" >None</td>\n",
              "            </tr>\n",
              "    </tbody></table>"
            ],
            "text/plain": [
              "<pandas.io.formats.style.Styler at 0x7fc87b6badd8>"
            ]
          },
          "metadata": {
            "tags": []
          }
        }
      ]
    },
    {
      "cell_type": "code",
      "metadata": {
        "id": "Kovu9l58j3eB",
        "outputId": "f9a5da7c-d37c-48ba-8e8e-b3377c28f236",
        "colab": {
          "base_uri": "https://localhost:8080/",
          "height": 632,
          "referenced_widgets": [
            "ef7e6b7fc0c34ea79c02a35b77afc394",
            "5886f8179d00487891a028e0e512f371",
            "f7a9ca718df04255adf445d993060d65"
          ]
        }
      },
      "source": [
        "compare_models()"
      ],
      "execution_count": null,
      "outputs": [
        {
          "output_type": "display_data",
          "data": {
            "text/html": [
              "<style  type=\"text/css\" >\n",
              "    #T_db2f962a_0399_11eb_81d5_0242ac1c0002 th {\n",
              "          text-align: left;\n",
              "    }#T_db2f962a_0399_11eb_81d5_0242ac1c0002row0_col0,#T_db2f962a_0399_11eb_81d5_0242ac1c0002row0_col2,#T_db2f962a_0399_11eb_81d5_0242ac1c0002row0_col3,#T_db2f962a_0399_11eb_81d5_0242ac1c0002row0_col5,#T_db2f962a_0399_11eb_81d5_0242ac1c0002row0_col6,#T_db2f962a_0399_11eb_81d5_0242ac1c0002row1_col0,#T_db2f962a_0399_11eb_81d5_0242ac1c0002row1_col1,#T_db2f962a_0399_11eb_81d5_0242ac1c0002row1_col4,#T_db2f962a_0399_11eb_81d5_0242ac1c0002row1_col5,#T_db2f962a_0399_11eb_81d5_0242ac1c0002row1_col6,#T_db2f962a_0399_11eb_81d5_0242ac1c0002row2_col0,#T_db2f962a_0399_11eb_81d5_0242ac1c0002row2_col1,#T_db2f962a_0399_11eb_81d5_0242ac1c0002row2_col2,#T_db2f962a_0399_11eb_81d5_0242ac1c0002row2_col3,#T_db2f962a_0399_11eb_81d5_0242ac1c0002row2_col4,#T_db2f962a_0399_11eb_81d5_0242ac1c0002row2_col5,#T_db2f962a_0399_11eb_81d5_0242ac1c0002row2_col6,#T_db2f962a_0399_11eb_81d5_0242ac1c0002row3_col0,#T_db2f962a_0399_11eb_81d5_0242ac1c0002row3_col1,#T_db2f962a_0399_11eb_81d5_0242ac1c0002row3_col2,#T_db2f962a_0399_11eb_81d5_0242ac1c0002row3_col3,#T_db2f962a_0399_11eb_81d5_0242ac1c0002row3_col4,#T_db2f962a_0399_11eb_81d5_0242ac1c0002row3_col5,#T_db2f962a_0399_11eb_81d5_0242ac1c0002row3_col6,#T_db2f962a_0399_11eb_81d5_0242ac1c0002row4_col0,#T_db2f962a_0399_11eb_81d5_0242ac1c0002row4_col1,#T_db2f962a_0399_11eb_81d5_0242ac1c0002row4_col2,#T_db2f962a_0399_11eb_81d5_0242ac1c0002row4_col3,#T_db2f962a_0399_11eb_81d5_0242ac1c0002row4_col4,#T_db2f962a_0399_11eb_81d5_0242ac1c0002row5_col0,#T_db2f962a_0399_11eb_81d5_0242ac1c0002row5_col1,#T_db2f962a_0399_11eb_81d5_0242ac1c0002row5_col2,#T_db2f962a_0399_11eb_81d5_0242ac1c0002row5_col3,#T_db2f962a_0399_11eb_81d5_0242ac1c0002row5_col4,#T_db2f962a_0399_11eb_81d5_0242ac1c0002row5_col5,#T_db2f962a_0399_11eb_81d5_0242ac1c0002row5_col6,#T_db2f962a_0399_11eb_81d5_0242ac1c0002row6_col0,#T_db2f962a_0399_11eb_81d5_0242ac1c0002row6_col1,#T_db2f962a_0399_11eb_81d5_0242ac1c0002row6_col2,#T_db2f962a_0399_11eb_81d5_0242ac1c0002row6_col3,#T_db2f962a_0399_11eb_81d5_0242ac1c0002row6_col4,#T_db2f962a_0399_11eb_81d5_0242ac1c0002row6_col5,#T_db2f962a_0399_11eb_81d5_0242ac1c0002row6_col6,#T_db2f962a_0399_11eb_81d5_0242ac1c0002row7_col0,#T_db2f962a_0399_11eb_81d5_0242ac1c0002row7_col1,#T_db2f962a_0399_11eb_81d5_0242ac1c0002row7_col2,#T_db2f962a_0399_11eb_81d5_0242ac1c0002row7_col3,#T_db2f962a_0399_11eb_81d5_0242ac1c0002row7_col4,#T_db2f962a_0399_11eb_81d5_0242ac1c0002row7_col5,#T_db2f962a_0399_11eb_81d5_0242ac1c0002row7_col6,#T_db2f962a_0399_11eb_81d5_0242ac1c0002row8_col0,#T_db2f962a_0399_11eb_81d5_0242ac1c0002row8_col1,#T_db2f962a_0399_11eb_81d5_0242ac1c0002row8_col2,#T_db2f962a_0399_11eb_81d5_0242ac1c0002row8_col3,#T_db2f962a_0399_11eb_81d5_0242ac1c0002row8_col4,#T_db2f962a_0399_11eb_81d5_0242ac1c0002row8_col5,#T_db2f962a_0399_11eb_81d5_0242ac1c0002row8_col6,#T_db2f962a_0399_11eb_81d5_0242ac1c0002row9_col0,#T_db2f962a_0399_11eb_81d5_0242ac1c0002row9_col1,#T_db2f962a_0399_11eb_81d5_0242ac1c0002row9_col2,#T_db2f962a_0399_11eb_81d5_0242ac1c0002row9_col3,#T_db2f962a_0399_11eb_81d5_0242ac1c0002row9_col4,#T_db2f962a_0399_11eb_81d5_0242ac1c0002row9_col5,#T_db2f962a_0399_11eb_81d5_0242ac1c0002row9_col6,#T_db2f962a_0399_11eb_81d5_0242ac1c0002row10_col0,#T_db2f962a_0399_11eb_81d5_0242ac1c0002row10_col1,#T_db2f962a_0399_11eb_81d5_0242ac1c0002row10_col2,#T_db2f962a_0399_11eb_81d5_0242ac1c0002row10_col3,#T_db2f962a_0399_11eb_81d5_0242ac1c0002row10_col4,#T_db2f962a_0399_11eb_81d5_0242ac1c0002row10_col5,#T_db2f962a_0399_11eb_81d5_0242ac1c0002row10_col6,#T_db2f962a_0399_11eb_81d5_0242ac1c0002row11_col0,#T_db2f962a_0399_11eb_81d5_0242ac1c0002row11_col1,#T_db2f962a_0399_11eb_81d5_0242ac1c0002row11_col2,#T_db2f962a_0399_11eb_81d5_0242ac1c0002row11_col3,#T_db2f962a_0399_11eb_81d5_0242ac1c0002row11_col4,#T_db2f962a_0399_11eb_81d5_0242ac1c0002row11_col5,#T_db2f962a_0399_11eb_81d5_0242ac1c0002row11_col6,#T_db2f962a_0399_11eb_81d5_0242ac1c0002row12_col0,#T_db2f962a_0399_11eb_81d5_0242ac1c0002row12_col1,#T_db2f962a_0399_11eb_81d5_0242ac1c0002row12_col2,#T_db2f962a_0399_11eb_81d5_0242ac1c0002row12_col3,#T_db2f962a_0399_11eb_81d5_0242ac1c0002row12_col4,#T_db2f962a_0399_11eb_81d5_0242ac1c0002row12_col5,#T_db2f962a_0399_11eb_81d5_0242ac1c0002row12_col6,#T_db2f962a_0399_11eb_81d5_0242ac1c0002row13_col0,#T_db2f962a_0399_11eb_81d5_0242ac1c0002row13_col1,#T_db2f962a_0399_11eb_81d5_0242ac1c0002row13_col2,#T_db2f962a_0399_11eb_81d5_0242ac1c0002row13_col3,#T_db2f962a_0399_11eb_81d5_0242ac1c0002row13_col4,#T_db2f962a_0399_11eb_81d5_0242ac1c0002row13_col5,#T_db2f962a_0399_11eb_81d5_0242ac1c0002row13_col6,#T_db2f962a_0399_11eb_81d5_0242ac1c0002row14_col0,#T_db2f962a_0399_11eb_81d5_0242ac1c0002row14_col1,#T_db2f962a_0399_11eb_81d5_0242ac1c0002row14_col2,#T_db2f962a_0399_11eb_81d5_0242ac1c0002row14_col3,#T_db2f962a_0399_11eb_81d5_0242ac1c0002row14_col4,#T_db2f962a_0399_11eb_81d5_0242ac1c0002row14_col5,#T_db2f962a_0399_11eb_81d5_0242ac1c0002row14_col6,#T_db2f962a_0399_11eb_81d5_0242ac1c0002row15_col0,#T_db2f962a_0399_11eb_81d5_0242ac1c0002row15_col1,#T_db2f962a_0399_11eb_81d5_0242ac1c0002row15_col2,#T_db2f962a_0399_11eb_81d5_0242ac1c0002row15_col3,#T_db2f962a_0399_11eb_81d5_0242ac1c0002row15_col4,#T_db2f962a_0399_11eb_81d5_0242ac1c0002row15_col5,#T_db2f962a_0399_11eb_81d5_0242ac1c0002row15_col6,#T_db2f962a_0399_11eb_81d5_0242ac1c0002row16_col0,#T_db2f962a_0399_11eb_81d5_0242ac1c0002row16_col1,#T_db2f962a_0399_11eb_81d5_0242ac1c0002row16_col2,#T_db2f962a_0399_11eb_81d5_0242ac1c0002row16_col3,#T_db2f962a_0399_11eb_81d5_0242ac1c0002row16_col4,#T_db2f962a_0399_11eb_81d5_0242ac1c0002row16_col5,#T_db2f962a_0399_11eb_81d5_0242ac1c0002row16_col6,#T_db2f962a_0399_11eb_81d5_0242ac1c0002row17_col0,#T_db2f962a_0399_11eb_81d5_0242ac1c0002row17_col1,#T_db2f962a_0399_11eb_81d5_0242ac1c0002row17_col2,#T_db2f962a_0399_11eb_81d5_0242ac1c0002row17_col3,#T_db2f962a_0399_11eb_81d5_0242ac1c0002row17_col4,#T_db2f962a_0399_11eb_81d5_0242ac1c0002row17_col5,#T_db2f962a_0399_11eb_81d5_0242ac1c0002row17_col6,#T_db2f962a_0399_11eb_81d5_0242ac1c0002row18_col0,#T_db2f962a_0399_11eb_81d5_0242ac1c0002row18_col1,#T_db2f962a_0399_11eb_81d5_0242ac1c0002row18_col2,#T_db2f962a_0399_11eb_81d5_0242ac1c0002row18_col3,#T_db2f962a_0399_11eb_81d5_0242ac1c0002row18_col4,#T_db2f962a_0399_11eb_81d5_0242ac1c0002row18_col5,#T_db2f962a_0399_11eb_81d5_0242ac1c0002row18_col6,#T_db2f962a_0399_11eb_81d5_0242ac1c0002row19_col0,#T_db2f962a_0399_11eb_81d5_0242ac1c0002row19_col1,#T_db2f962a_0399_11eb_81d5_0242ac1c0002row19_col2,#T_db2f962a_0399_11eb_81d5_0242ac1c0002row19_col3,#T_db2f962a_0399_11eb_81d5_0242ac1c0002row19_col4,#T_db2f962a_0399_11eb_81d5_0242ac1c0002row19_col5,#T_db2f962a_0399_11eb_81d5_0242ac1c0002row19_col6,#T_db2f962a_0399_11eb_81d5_0242ac1c0002row20_col0,#T_db2f962a_0399_11eb_81d5_0242ac1c0002row20_col1,#T_db2f962a_0399_11eb_81d5_0242ac1c0002row20_col2,#T_db2f962a_0399_11eb_81d5_0242ac1c0002row20_col3,#T_db2f962a_0399_11eb_81d5_0242ac1c0002row20_col4,#T_db2f962a_0399_11eb_81d5_0242ac1c0002row20_col5,#T_db2f962a_0399_11eb_81d5_0242ac1c0002row20_col6,#T_db2f962a_0399_11eb_81d5_0242ac1c0002row21_col0,#T_db2f962a_0399_11eb_81d5_0242ac1c0002row21_col1,#T_db2f962a_0399_11eb_81d5_0242ac1c0002row21_col2,#T_db2f962a_0399_11eb_81d5_0242ac1c0002row21_col3,#T_db2f962a_0399_11eb_81d5_0242ac1c0002row21_col4,#T_db2f962a_0399_11eb_81d5_0242ac1c0002row21_col5,#T_db2f962a_0399_11eb_81d5_0242ac1c0002row21_col6{\n",
              "            text-align:  left;\n",
              "        }#T_db2f962a_0399_11eb_81d5_0242ac1c0002row0_col1,#T_db2f962a_0399_11eb_81d5_0242ac1c0002row0_col4,#T_db2f962a_0399_11eb_81d5_0242ac1c0002row1_col2,#T_db2f962a_0399_11eb_81d5_0242ac1c0002row1_col3,#T_db2f962a_0399_11eb_81d5_0242ac1c0002row4_col5,#T_db2f962a_0399_11eb_81d5_0242ac1c0002row4_col6{\n",
              "            background-color:  yellow;\n",
              "            text-align:  left;\n",
              "        }#T_db2f962a_0399_11eb_81d5_0242ac1c0002row0_col7,#T_db2f962a_0399_11eb_81d5_0242ac1c0002row1_col7,#T_db2f962a_0399_11eb_81d5_0242ac1c0002row2_col7,#T_db2f962a_0399_11eb_81d5_0242ac1c0002row3_col7,#T_db2f962a_0399_11eb_81d5_0242ac1c0002row4_col7,#T_db2f962a_0399_11eb_81d5_0242ac1c0002row5_col7,#T_db2f962a_0399_11eb_81d5_0242ac1c0002row6_col7,#T_db2f962a_0399_11eb_81d5_0242ac1c0002row7_col7,#T_db2f962a_0399_11eb_81d5_0242ac1c0002row8_col7,#T_db2f962a_0399_11eb_81d5_0242ac1c0002row9_col7,#T_db2f962a_0399_11eb_81d5_0242ac1c0002row10_col7,#T_db2f962a_0399_11eb_81d5_0242ac1c0002row11_col7,#T_db2f962a_0399_11eb_81d5_0242ac1c0002row12_col7,#T_db2f962a_0399_11eb_81d5_0242ac1c0002row13_col7,#T_db2f962a_0399_11eb_81d5_0242ac1c0002row14_col7,#T_db2f962a_0399_11eb_81d5_0242ac1c0002row15_col7,#T_db2f962a_0399_11eb_81d5_0242ac1c0002row16_col7,#T_db2f962a_0399_11eb_81d5_0242ac1c0002row17_col7,#T_db2f962a_0399_11eb_81d5_0242ac1c0002row18_col7,#T_db2f962a_0399_11eb_81d5_0242ac1c0002row19_col7,#T_db2f962a_0399_11eb_81d5_0242ac1c0002row20_col7,#T_db2f962a_0399_11eb_81d5_0242ac1c0002row21_col7{\n",
              "            background-color:  lightgrey;\n",
              "            text-align:  left;\n",
              "        }</style><table id=\"T_db2f962a_0399_11eb_81d5_0242ac1c0002\" ><thead>    <tr>        <th class=\"blank level0\" ></th>        <th class=\"col_heading level0 col0\" >Model</th>        <th class=\"col_heading level0 col1\" >MAE</th>        <th class=\"col_heading level0 col2\" >MSE</th>        <th class=\"col_heading level0 col3\" >RMSE</th>        <th class=\"col_heading level0 col4\" >R2</th>        <th class=\"col_heading level0 col5\" >RMSLE</th>        <th class=\"col_heading level0 col6\" >MAPE</th>        <th class=\"col_heading level0 col7\" >TT (Sec)</th>    </tr></thead><tbody>\n",
              "                <tr>\n",
              "                        <th id=\"T_db2f962a_0399_11eb_81d5_0242ac1c0002level0_row0\" class=\"row_heading level0 row0\" >0</th>\n",
              "                        <td id=\"T_db2f962a_0399_11eb_81d5_0242ac1c0002row0_col0\" class=\"data row0 col0\" >Extreme Gradient Boosting</td>\n",
              "                        <td id=\"T_db2f962a_0399_11eb_81d5_0242ac1c0002row0_col1\" class=\"data row0 col1\" >756.0732</td>\n",
              "                        <td id=\"T_db2f962a_0399_11eb_81d5_0242ac1c0002row0_col2\" class=\"data row0 col2\" >1153649.1192</td>\n",
              "                        <td id=\"T_db2f962a_0399_11eb_81d5_0242ac1c0002row0_col3\" class=\"data row0 col3\" >1073.3676</td>\n",
              "                        <td id=\"T_db2f962a_0399_11eb_81d5_0242ac1c0002row0_col4\" class=\"data row0 col4\" >0.5887</td>\n",
              "                        <td id=\"T_db2f962a_0399_11eb_81d5_0242ac1c0002row0_col5\" class=\"data row0 col5\" >0.5584</td>\n",
              "                        <td id=\"T_db2f962a_0399_11eb_81d5_0242ac1c0002row0_col6\" class=\"data row0 col6\" >0.5710</td>\n",
              "                        <td id=\"T_db2f962a_0399_11eb_81d5_0242ac1c0002row0_col7\" class=\"data row0 col7\" >0.6013</td>\n",
              "            </tr>\n",
              "            <tr>\n",
              "                        <th id=\"T_db2f962a_0399_11eb_81d5_0242ac1c0002level0_row1\" class=\"row_heading level0 row1\" >1</th>\n",
              "                        <td id=\"T_db2f962a_0399_11eb_81d5_0242ac1c0002row1_col0\" class=\"data row1 col0\" >Gradient Boosting Regressor</td>\n",
              "                        <td id=\"T_db2f962a_0399_11eb_81d5_0242ac1c0002row1_col1\" class=\"data row1 col1\" >756.5266</td>\n",
              "                        <td id=\"T_db2f962a_0399_11eb_81d5_0242ac1c0002row1_col2\" class=\"data row1 col2\" >1153345.0669</td>\n",
              "                        <td id=\"T_db2f962a_0399_11eb_81d5_0242ac1c0002row1_col3\" class=\"data row1 col3\" >1073.2996</td>\n",
              "                        <td id=\"T_db2f962a_0399_11eb_81d5_0242ac1c0002row1_col4\" class=\"data row1 col4\" >0.5886</td>\n",
              "                        <td id=\"T_db2f962a_0399_11eb_81d5_0242ac1c0002row1_col5\" class=\"data row1 col5\" >0.5560</td>\n",
              "                        <td id=\"T_db2f962a_0399_11eb_81d5_0242ac1c0002row1_col6\" class=\"data row1 col6\" >0.5711</td>\n",
              "                        <td id=\"T_db2f962a_0399_11eb_81d5_0242ac1c0002row1_col7\" class=\"data row1 col7\" >1.4152</td>\n",
              "            </tr>\n",
              "            <tr>\n",
              "                        <th id=\"T_db2f962a_0399_11eb_81d5_0242ac1c0002level0_row2\" class=\"row_heading level0 row2\" >2</th>\n",
              "                        <td id=\"T_db2f962a_0399_11eb_81d5_0242ac1c0002row2_col0\" class=\"data row2 col0\" >Light Gradient Boosting Machine</td>\n",
              "                        <td id=\"T_db2f962a_0399_11eb_81d5_0242ac1c0002row2_col1\" class=\"data row2 col1\" >770.2918</td>\n",
              "                        <td id=\"T_db2f962a_0399_11eb_81d5_0242ac1c0002row2_col2\" class=\"data row2 col2\" >1211503.8140</td>\n",
              "                        <td id=\"T_db2f962a_0399_11eb_81d5_0242ac1c0002row2_col3\" class=\"data row2 col3\" >1099.5381</td>\n",
              "                        <td id=\"T_db2f962a_0399_11eb_81d5_0242ac1c0002row2_col4\" class=\"data row2 col4\" >0.5678</td>\n",
              "                        <td id=\"T_db2f962a_0399_11eb_81d5_0242ac1c0002row2_col5\" class=\"data row2 col5\" >0.5587</td>\n",
              "                        <td id=\"T_db2f962a_0399_11eb_81d5_0242ac1c0002row2_col6\" class=\"data row2 col6\" >0.5719</td>\n",
              "                        <td id=\"T_db2f962a_0399_11eb_81d5_0242ac1c0002row2_col7\" class=\"data row2 col7\" >0.1317</td>\n",
              "            </tr>\n",
              "            <tr>\n",
              "                        <th id=\"T_db2f962a_0399_11eb_81d5_0242ac1c0002level0_row3\" class=\"row_heading level0 row3\" >3</th>\n",
              "                        <td id=\"T_db2f962a_0399_11eb_81d5_0242ac1c0002row3_col0\" class=\"data row3 col0\" >CatBoost Regressor</td>\n",
              "                        <td id=\"T_db2f962a_0399_11eb_81d5_0242ac1c0002row3_col1\" class=\"data row3 col1\" >777.3914</td>\n",
              "                        <td id=\"T_db2f962a_0399_11eb_81d5_0242ac1c0002row3_col2\" class=\"data row3 col2\" >1217093.5361</td>\n",
              "                        <td id=\"T_db2f962a_0399_11eb_81d5_0242ac1c0002row3_col3\" class=\"data row3 col3\" >1102.2449</td>\n",
              "                        <td id=\"T_db2f962a_0399_11eb_81d5_0242ac1c0002row3_col4\" class=\"data row3 col4\" >0.5659</td>\n",
              "                        <td id=\"T_db2f962a_0399_11eb_81d5_0242ac1c0002row3_col5\" class=\"data row3 col5\" >0.5870</td>\n",
              "                        <td id=\"T_db2f962a_0399_11eb_81d5_0242ac1c0002row3_col6\" class=\"data row3 col6\" >0.5854</td>\n",
              "                        <td id=\"T_db2f962a_0399_11eb_81d5_0242ac1c0002row3_col7\" class=\"data row3 col7\" >2.9337</td>\n",
              "            </tr>\n",
              "            <tr>\n",
              "                        <th id=\"T_db2f962a_0399_11eb_81d5_0242ac1c0002level0_row4\" class=\"row_heading level0 row4\" >4</th>\n",
              "                        <td id=\"T_db2f962a_0399_11eb_81d5_0242ac1c0002row4_col0\" class=\"data row4 col0\" >Random Forest</td>\n",
              "                        <td id=\"T_db2f962a_0399_11eb_81d5_0242ac1c0002row4_col1\" class=\"data row4 col1\" >781.0856</td>\n",
              "                        <td id=\"T_db2f962a_0399_11eb_81d5_0242ac1c0002row4_col2\" class=\"data row4 col2\" >1233703.0613</td>\n",
              "                        <td id=\"T_db2f962a_0399_11eb_81d5_0242ac1c0002row4_col3\" class=\"data row4 col3\" >1109.3931</td>\n",
              "                        <td id=\"T_db2f962a_0399_11eb_81d5_0242ac1c0002row4_col4\" class=\"data row4 col4\" >0.5599</td>\n",
              "                        <td id=\"T_db2f962a_0399_11eb_81d5_0242ac1c0002row4_col5\" class=\"data row4 col5\" >0.5526</td>\n",
              "                        <td id=\"T_db2f962a_0399_11eb_81d5_0242ac1c0002row4_col6\" class=\"data row4 col6\" >0.5691</td>\n",
              "                        <td id=\"T_db2f962a_0399_11eb_81d5_0242ac1c0002row4_col7\" class=\"data row4 col7\" >3.2951</td>\n",
              "            </tr>\n",
              "            <tr>\n",
              "                        <th id=\"T_db2f962a_0399_11eb_81d5_0242ac1c0002level0_row5\" class=\"row_heading level0 row5\" >5</th>\n",
              "                        <td id=\"T_db2f962a_0399_11eb_81d5_0242ac1c0002row5_col0\" class=\"data row5 col0\" >Orthogonal Matching Pursuit</td>\n",
              "                        <td id=\"T_db2f962a_0399_11eb_81d5_0242ac1c0002row5_col1\" class=\"data row5 col1\" >831.8030</td>\n",
              "                        <td id=\"T_db2f962a_0399_11eb_81d5_0242ac1c0002row5_col2\" class=\"data row5 col2\" >1250761.2990</td>\n",
              "                        <td id=\"T_db2f962a_0399_11eb_81d5_0242ac1c0002row5_col3\" class=\"data row5 col3\" >1117.5678</td>\n",
              "                        <td id=\"T_db2f962a_0399_11eb_81d5_0242ac1c0002row5_col4\" class=\"data row5 col4\" >0.5541</td>\n",
              "                        <td id=\"T_db2f962a_0399_11eb_81d5_0242ac1c0002row5_col5\" class=\"data row5 col5\" >0.7221</td>\n",
              "                        <td id=\"T_db2f962a_0399_11eb_81d5_0242ac1c0002row5_col6\" class=\"data row5 col6\" >1.0203</td>\n",
              "                        <td id=\"T_db2f962a_0399_11eb_81d5_0242ac1c0002row5_col7\" class=\"data row5 col7\" >0.0090</td>\n",
              "            </tr>\n",
              "            <tr>\n",
              "                        <th id=\"T_db2f962a_0399_11eb_81d5_0242ac1c0002level0_row6\" class=\"row_heading level0 row6\" >6</th>\n",
              "                        <td id=\"T_db2f962a_0399_11eb_81d5_0242ac1c0002row6_col0\" class=\"data row6 col0\" >Lasso Regression</td>\n",
              "                        <td id=\"T_db2f962a_0399_11eb_81d5_0242ac1c0002row6_col1\" class=\"data row6 col1\" >831.8921</td>\n",
              "                        <td id=\"T_db2f962a_0399_11eb_81d5_0242ac1c0002row6_col2\" class=\"data row6 col2\" >1253344.9467</td>\n",
              "                        <td id=\"T_db2f962a_0399_11eb_81d5_0242ac1c0002row6_col3\" class=\"data row6 col3\" >1118.6808</td>\n",
              "                        <td id=\"T_db2f962a_0399_11eb_81d5_0242ac1c0002row6_col4\" class=\"data row6 col4\" >0.5532</td>\n",
              "                        <td id=\"T_db2f962a_0399_11eb_81d5_0242ac1c0002row6_col5\" class=\"data row6 col5\" >0.7230</td>\n",
              "                        <td id=\"T_db2f962a_0399_11eb_81d5_0242ac1c0002row6_col6\" class=\"data row6 col6\" >1.0151</td>\n",
              "                        <td id=\"T_db2f962a_0399_11eb_81d5_0242ac1c0002row6_col7\" class=\"data row6 col7\" >0.0589</td>\n",
              "            </tr>\n",
              "            <tr>\n",
              "                        <th id=\"T_db2f962a_0399_11eb_81d5_0242ac1c0002level0_row7\" class=\"row_heading level0 row7\" >7</th>\n",
              "                        <td id=\"T_db2f962a_0399_11eb_81d5_0242ac1c0002row7_col0\" class=\"data row7 col0\" >Bayesian Ridge</td>\n",
              "                        <td id=\"T_db2f962a_0399_11eb_81d5_0242ac1c0002row7_col1\" class=\"data row7 col1\" >832.6587</td>\n",
              "                        <td id=\"T_db2f962a_0399_11eb_81d5_0242ac1c0002row7_col2\" class=\"data row7 col2\" >1255774.9098</td>\n",
              "                        <td id=\"T_db2f962a_0399_11eb_81d5_0242ac1c0002row7_col3\" class=\"data row7 col3\" >1119.7737</td>\n",
              "                        <td id=\"T_db2f962a_0399_11eb_81d5_0242ac1c0002row7_col4\" class=\"data row7 col4\" >0.5523</td>\n",
              "                        <td id=\"T_db2f962a_0399_11eb_81d5_0242ac1c0002row7_col5\" class=\"data row7 col5\" >0.7307</td>\n",
              "                        <td id=\"T_db2f962a_0399_11eb_81d5_0242ac1c0002row7_col6\" class=\"data row7 col6\" >1.0128</td>\n",
              "                        <td id=\"T_db2f962a_0399_11eb_81d5_0242ac1c0002row7_col7\" class=\"data row7 col7\" >0.0250</td>\n",
              "            </tr>\n",
              "            <tr>\n",
              "                        <th id=\"T_db2f962a_0399_11eb_81d5_0242ac1c0002level0_row8\" class=\"row_heading level0 row8\" >8</th>\n",
              "                        <td id=\"T_db2f962a_0399_11eb_81d5_0242ac1c0002row8_col0\" class=\"data row8 col0\" >Ridge Regression</td>\n",
              "                        <td id=\"T_db2f962a_0399_11eb_81d5_0242ac1c0002row8_col1\" class=\"data row8 col1\" >833.1711</td>\n",
              "                        <td id=\"T_db2f962a_0399_11eb_81d5_0242ac1c0002row8_col2\" class=\"data row8 col2\" >1256190.2653</td>\n",
              "                        <td id=\"T_db2f962a_0399_11eb_81d5_0242ac1c0002row8_col3\" class=\"data row8 col3\" >1119.9668</td>\n",
              "                        <td id=\"T_db2f962a_0399_11eb_81d5_0242ac1c0002row8_col4\" class=\"data row8 col4\" >0.5522</td>\n",
              "                        <td id=\"T_db2f962a_0399_11eb_81d5_0242ac1c0002row8_col5\" class=\"data row8 col5\" >0.7256</td>\n",
              "                        <td id=\"T_db2f962a_0399_11eb_81d5_0242ac1c0002row8_col6\" class=\"data row8 col6\" >1.0183</td>\n",
              "                        <td id=\"T_db2f962a_0399_11eb_81d5_0242ac1c0002row8_col7\" class=\"data row8 col7\" >0.0093</td>\n",
              "            </tr>\n",
              "            <tr>\n",
              "                        <th id=\"T_db2f962a_0399_11eb_81d5_0242ac1c0002level0_row9\" class=\"row_heading level0 row9\" >9</th>\n",
              "                        <td id=\"T_db2f962a_0399_11eb_81d5_0242ac1c0002row9_col0\" class=\"data row9 col0\" >Linear Regression</td>\n",
              "                        <td id=\"T_db2f962a_0399_11eb_81d5_0242ac1c0002row9_col1\" class=\"data row9 col1\" >833.2330</td>\n",
              "                        <td id=\"T_db2f962a_0399_11eb_81d5_0242ac1c0002row9_col2\" class=\"data row9 col2\" >1256258.2572</td>\n",
              "                        <td id=\"T_db2f962a_0399_11eb_81d5_0242ac1c0002row9_col3\" class=\"data row9 col3\" >1119.9981</td>\n",
              "                        <td id=\"T_db2f962a_0399_11eb_81d5_0242ac1c0002row9_col4\" class=\"data row9 col4\" >0.5521</td>\n",
              "                        <td id=\"T_db2f962a_0399_11eb_81d5_0242ac1c0002row9_col5\" class=\"data row9 col5\" >0.7260</td>\n",
              "                        <td id=\"T_db2f962a_0399_11eb_81d5_0242ac1c0002row9_col6\" class=\"data row9 col6\" >1.0188</td>\n",
              "                        <td id=\"T_db2f962a_0399_11eb_81d5_0242ac1c0002row9_col7\" class=\"data row9 col7\" >0.0190</td>\n",
              "            </tr>\n",
              "            <tr>\n",
              "                        <th id=\"T_db2f962a_0399_11eb_81d5_0242ac1c0002level0_row10\" class=\"row_heading level0 row10\" >10</th>\n",
              "                        <td id=\"T_db2f962a_0399_11eb_81d5_0242ac1c0002row10_col0\" class=\"data row10 col0\" >TheilSen Regressor</td>\n",
              "                        <td id=\"T_db2f962a_0399_11eb_81d5_0242ac1c0002row10_col1\" class=\"data row10 col1\" >832.3172</td>\n",
              "                        <td id=\"T_db2f962a_0399_11eb_81d5_0242ac1c0002row10_col2\" class=\"data row10 col2\" >1256588.9783</td>\n",
              "                        <td id=\"T_db2f962a_0399_11eb_81d5_0242ac1c0002row10_col3\" class=\"data row10 col3\" >1120.1331</td>\n",
              "                        <td id=\"T_db2f962a_0399_11eb_81d5_0242ac1c0002row10_col4\" class=\"data row10 col4\" >0.5521</td>\n",
              "                        <td id=\"T_db2f962a_0399_11eb_81d5_0242ac1c0002row10_col5\" class=\"data row10 col5\" >0.7256</td>\n",
              "                        <td id=\"T_db2f962a_0399_11eb_81d5_0242ac1c0002row10_col6\" class=\"data row10 col6\" >1.0026</td>\n",
              "                        <td id=\"T_db2f962a_0399_11eb_81d5_0242ac1c0002row10_col7\" class=\"data row10 col7\" >7.3753</td>\n",
              "            </tr>\n",
              "            <tr>\n",
              "                        <th id=\"T_db2f962a_0399_11eb_81d5_0242ac1c0002level0_row11\" class=\"row_heading level0 row11\" >11</th>\n",
              "                        <td id=\"T_db2f962a_0399_11eb_81d5_0242ac1c0002row11_col0\" class=\"data row11 col0\" >Lasso Least Angle Regression</td>\n",
              "                        <td id=\"T_db2f962a_0399_11eb_81d5_0242ac1c0002row11_col1\" class=\"data row11 col1\" >834.8793</td>\n",
              "                        <td id=\"T_db2f962a_0399_11eb_81d5_0242ac1c0002row11_col2\" class=\"data row11 col2\" >1271606.5708</td>\n",
              "                        <td id=\"T_db2f962a_0399_11eb_81d5_0242ac1c0002row11_col3\" class=\"data row11 col3\" >1126.6729</td>\n",
              "                        <td id=\"T_db2f962a_0399_11eb_81d5_0242ac1c0002row11_col4\" class=\"data row11 col4\" >0.5471</td>\n",
              "                        <td id=\"T_db2f962a_0399_11eb_81d5_0242ac1c0002row11_col5\" class=\"data row11 col5\" >0.7111</td>\n",
              "                        <td id=\"T_db2f962a_0399_11eb_81d5_0242ac1c0002row11_col6\" class=\"data row11 col6\" >0.9452</td>\n",
              "                        <td id=\"T_db2f962a_0399_11eb_81d5_0242ac1c0002row11_col7\" class=\"data row11 col7\" >0.0107</td>\n",
              "            </tr>\n",
              "            <tr>\n",
              "                        <th id=\"T_db2f962a_0399_11eb_81d5_0242ac1c0002level0_row12\" class=\"row_heading level0 row12\" >12</th>\n",
              "                        <td id=\"T_db2f962a_0399_11eb_81d5_0242ac1c0002row12_col0\" class=\"data row12 col0\" >Random Sample Consensus</td>\n",
              "                        <td id=\"T_db2f962a_0399_11eb_81d5_0242ac1c0002row12_col1\" class=\"data row12 col1\" >827.6175</td>\n",
              "                        <td id=\"T_db2f962a_0399_11eb_81d5_0242ac1c0002row12_col2\" class=\"data row12 col2\" >1271497.8675</td>\n",
              "                        <td id=\"T_db2f962a_0399_11eb_81d5_0242ac1c0002row12_col3\" class=\"data row12 col3\" >1126.6055</td>\n",
              "                        <td id=\"T_db2f962a_0399_11eb_81d5_0242ac1c0002row12_col4\" class=\"data row12 col4\" >0.5470</td>\n",
              "                        <td id=\"T_db2f962a_0399_11eb_81d5_0242ac1c0002row12_col5\" class=\"data row12 col5\" >0.7139</td>\n",
              "                        <td id=\"T_db2f962a_0399_11eb_81d5_0242ac1c0002row12_col6\" class=\"data row12 col6\" >0.9634</td>\n",
              "                        <td id=\"T_db2f962a_0399_11eb_81d5_0242ac1c0002row12_col7\" class=\"data row12 col7\" >0.8169</td>\n",
              "            </tr>\n",
              "            <tr>\n",
              "                        <th id=\"T_db2f962a_0399_11eb_81d5_0242ac1c0002level0_row13\" class=\"row_heading level0 row13\" >13</th>\n",
              "                        <td id=\"T_db2f962a_0399_11eb_81d5_0242ac1c0002row13_col0\" class=\"data row13 col0\" >Huber Regressor</td>\n",
              "                        <td id=\"T_db2f962a_0399_11eb_81d5_0242ac1c0002row13_col1\" class=\"data row13 col1\" >825.9332</td>\n",
              "                        <td id=\"T_db2f962a_0399_11eb_81d5_0242ac1c0002row13_col2\" class=\"data row13 col2\" >1272359.9192</td>\n",
              "                        <td id=\"T_db2f962a_0399_11eb_81d5_0242ac1c0002row13_col3\" class=\"data row13 col3\" >1127.0064</td>\n",
              "                        <td id=\"T_db2f962a_0399_11eb_81d5_0242ac1c0002row13_col4\" class=\"data row13 col4\" >0.5468</td>\n",
              "                        <td id=\"T_db2f962a_0399_11eb_81d5_0242ac1c0002row13_col5\" class=\"data row13 col5\" >0.7047</td>\n",
              "                        <td id=\"T_db2f962a_0399_11eb_81d5_0242ac1c0002row13_col6\" class=\"data row13 col6\" >0.9438</td>\n",
              "                        <td id=\"T_db2f962a_0399_11eb_81d5_0242ac1c0002row13_col7\" class=\"data row13 col7\" >0.2442</td>\n",
              "            </tr>\n",
              "            <tr>\n",
              "                        <th id=\"T_db2f962a_0399_11eb_81d5_0242ac1c0002level0_row14\" class=\"row_heading level0 row14\" >14</th>\n",
              "                        <td id=\"T_db2f962a_0399_11eb_81d5_0242ac1c0002row14_col0\" class=\"data row14 col0\" >Extra Trees Regressor</td>\n",
              "                        <td id=\"T_db2f962a_0399_11eb_81d5_0242ac1c0002row14_col1\" class=\"data row14 col1\" >814.9169</td>\n",
              "                        <td id=\"T_db2f962a_0399_11eb_81d5_0242ac1c0002row14_col2\" class=\"data row14 col2\" >1350456.8273</td>\n",
              "                        <td id=\"T_db2f962a_0399_11eb_81d5_0242ac1c0002row14_col3\" class=\"data row14 col3\" >1160.7527</td>\n",
              "                        <td id=\"T_db2f962a_0399_11eb_81d5_0242ac1c0002row14_col4\" class=\"data row14 col4\" >0.5186</td>\n",
              "                        <td id=\"T_db2f962a_0399_11eb_81d5_0242ac1c0002row14_col5\" class=\"data row14 col5\" >0.5724</td>\n",
              "                        <td id=\"T_db2f962a_0399_11eb_81d5_0242ac1c0002row14_col6\" class=\"data row14 col6\" >0.5867</td>\n",
              "                        <td id=\"T_db2f962a_0399_11eb_81d5_0242ac1c0002row14_col7\" class=\"data row14 col7\" >2.6351</td>\n",
              "            </tr>\n",
              "            <tr>\n",
              "                        <th id=\"T_db2f962a_0399_11eb_81d5_0242ac1c0002level0_row15\" class=\"row_heading level0 row15\" >15</th>\n",
              "                        <td id=\"T_db2f962a_0399_11eb_81d5_0242ac1c0002row15_col0\" class=\"data row15 col0\" >AdaBoost Regressor</td>\n",
              "                        <td id=\"T_db2f962a_0399_11eb_81d5_0242ac1c0002row15_col1\" class=\"data row15 col1\" >947.5485</td>\n",
              "                        <td id=\"T_db2f962a_0399_11eb_81d5_0242ac1c0002row15_col2\" class=\"data row15 col2\" >1460712.8700</td>\n",
              "                        <td id=\"T_db2f962a_0399_11eb_81d5_0242ac1c0002row15_col3\" class=\"data row15 col3\" >1208.1225</td>\n",
              "                        <td id=\"T_db2f962a_0399_11eb_81d5_0242ac1c0002row15_col4\" class=\"data row15 col4\" >0.4776</td>\n",
              "                        <td id=\"T_db2f962a_0399_11eb_81d5_0242ac1c0002row15_col5\" class=\"data row15 col5\" >0.8439</td>\n",
              "                        <td id=\"T_db2f962a_0399_11eb_81d5_0242ac1c0002row15_col6\" class=\"data row15 col6\" >1.3146</td>\n",
              "                        <td id=\"T_db2f962a_0399_11eb_81d5_0242ac1c0002row15_col7\" class=\"data row15 col7\" >0.3129</td>\n",
              "            </tr>\n",
              "            <tr>\n",
              "                        <th id=\"T_db2f962a_0399_11eb_81d5_0242ac1c0002level0_row16\" class=\"row_heading level0 row16\" >16</th>\n",
              "                        <td id=\"T_db2f962a_0399_11eb_81d5_0242ac1c0002row16_col0\" class=\"data row16 col0\" >Elastic Net</td>\n",
              "                        <td id=\"T_db2f962a_0399_11eb_81d5_0242ac1c0002row16_col1\" class=\"data row16 col1\" >910.8748</td>\n",
              "                        <td id=\"T_db2f962a_0399_11eb_81d5_0242ac1c0002row16_col2\" class=\"data row16 col2\" >1543416.1262</td>\n",
              "                        <td id=\"T_db2f962a_0399_11eb_81d5_0242ac1c0002row16_col3\" class=\"data row16 col3\" >1241.3789</td>\n",
              "                        <td id=\"T_db2f962a_0399_11eb_81d5_0242ac1c0002row16_col4\" class=\"data row16 col4\" >0.4502</td>\n",
              "                        <td id=\"T_db2f962a_0399_11eb_81d5_0242ac1c0002row16_col5\" class=\"data row16 col5\" >0.7628</td>\n",
              "                        <td id=\"T_db2f962a_0399_11eb_81d5_0242ac1c0002row16_col6\" class=\"data row16 col6\" >1.0178</td>\n",
              "                        <td id=\"T_db2f962a_0399_11eb_81d5_0242ac1c0002row16_col7\" class=\"data row16 col7\" >0.0092</td>\n",
              "            </tr>\n",
              "            <tr>\n",
              "                        <th id=\"T_db2f962a_0399_11eb_81d5_0242ac1c0002level0_row17\" class=\"row_heading level0 row17\" >17</th>\n",
              "                        <td id=\"T_db2f962a_0399_11eb_81d5_0242ac1c0002row17_col0\" class=\"data row17 col0\" >K Neighbors Regressor</td>\n",
              "                        <td id=\"T_db2f962a_0399_11eb_81d5_0242ac1c0002row17_col1\" class=\"data row17 col1\" >1112.6995</td>\n",
              "                        <td id=\"T_db2f962a_0399_11eb_81d5_0242ac1c0002row17_col2\" class=\"data row17 col2\" >2293205.0699</td>\n",
              "                        <td id=\"T_db2f962a_0399_11eb_81d5_0242ac1c0002row17_col3\" class=\"data row17 col3\" >1513.0824</td>\n",
              "                        <td id=\"T_db2f962a_0399_11eb_81d5_0242ac1c0002row17_col4\" class=\"data row17 col4\" >0.1828</td>\n",
              "                        <td id=\"T_db2f962a_0399_11eb_81d5_0242ac1c0002row17_col5\" class=\"data row17 col5\" >0.9261</td>\n",
              "                        <td id=\"T_db2f962a_0399_11eb_81d5_0242ac1c0002row17_col6\" class=\"data row17 col6\" >1.4631</td>\n",
              "                        <td id=\"T_db2f962a_0399_11eb_81d5_0242ac1c0002row17_col7\" class=\"data row17 col7\" >0.0317</td>\n",
              "            </tr>\n",
              "            <tr>\n",
              "                        <th id=\"T_db2f962a_0399_11eb_81d5_0242ac1c0002level0_row18\" class=\"row_heading level0 row18\" >18</th>\n",
              "                        <td id=\"T_db2f962a_0399_11eb_81d5_0242ac1c0002row18_col0\" class=\"data row18 col0\" >Decision Tree</td>\n",
              "                        <td id=\"T_db2f962a_0399_11eb_81d5_0242ac1c0002row18_col1\" class=\"data row18 col1\" >1058.4576</td>\n",
              "                        <td id=\"T_db2f962a_0399_11eb_81d5_0242ac1c0002row18_col2\" class=\"data row18 col2\" >2337436.6790</td>\n",
              "                        <td id=\"T_db2f962a_0399_11eb_81d5_0242ac1c0002row18_col3\" class=\"data row18 col3\" >1527.5987</td>\n",
              "                        <td id=\"T_db2f962a_0399_11eb_81d5_0242ac1c0002row18_col4\" class=\"data row18 col4\" >0.1657</td>\n",
              "                        <td id=\"T_db2f962a_0399_11eb_81d5_0242ac1c0002row18_col5\" class=\"data row18 col5\" >0.7400</td>\n",
              "                        <td id=\"T_db2f962a_0399_11eb_81d5_0242ac1c0002row18_col6\" class=\"data row18 col6\" >0.7095</td>\n",
              "                        <td id=\"T_db2f962a_0399_11eb_81d5_0242ac1c0002row18_col7\" class=\"data row18 col7\" >0.0731</td>\n",
              "            </tr>\n",
              "            <tr>\n",
              "                        <th id=\"T_db2f962a_0399_11eb_81d5_0242ac1c0002level0_row19\" class=\"row_heading level0 row19\" >19</th>\n",
              "                        <td id=\"T_db2f962a_0399_11eb_81d5_0242ac1c0002row19_col0\" class=\"data row19 col0\" >Passive Aggressive Regressor</td>\n",
              "                        <td id=\"T_db2f962a_0399_11eb_81d5_0242ac1c0002row19_col1\" class=\"data row19 col1\" >1179.9955</td>\n",
              "                        <td id=\"T_db2f962a_0399_11eb_81d5_0242ac1c0002row19_col2\" class=\"data row19 col2\" >2443432.5512</td>\n",
              "                        <td id=\"T_db2f962a_0399_11eb_81d5_0242ac1c0002row19_col3\" class=\"data row19 col3\" >1538.5141</td>\n",
              "                        <td id=\"T_db2f962a_0399_11eb_81d5_0242ac1c0002row19_col4\" class=\"data row19 col4\" >0.1379</td>\n",
              "                        <td id=\"T_db2f962a_0399_11eb_81d5_0242ac1c0002row19_col5\" class=\"data row19 col5\" >1.0054</td>\n",
              "                        <td id=\"T_db2f962a_0399_11eb_81d5_0242ac1c0002row19_col6\" class=\"data row19 col6\" >1.2677</td>\n",
              "                        <td id=\"T_db2f962a_0399_11eb_81d5_0242ac1c0002row19_col7\" class=\"data row19 col7\" >0.0725</td>\n",
              "            </tr>\n",
              "            <tr>\n",
              "                        <th id=\"T_db2f962a_0399_11eb_81d5_0242ac1c0002level0_row20\" class=\"row_heading level0 row20\" >20</th>\n",
              "                        <td id=\"T_db2f962a_0399_11eb_81d5_0242ac1c0002row20_col0\" class=\"data row20 col0\" >Support Vector Machine</td>\n",
              "                        <td id=\"T_db2f962a_0399_11eb_81d5_0242ac1c0002row20_col1\" class=\"data row20 col1\" >1282.2083</td>\n",
              "                        <td id=\"T_db2f962a_0399_11eb_81d5_0242ac1c0002row20_col2\" class=\"data row20 col2\" >2923365.3524</td>\n",
              "                        <td id=\"T_db2f962a_0399_11eb_81d5_0242ac1c0002row20_col3\" class=\"data row20 col3\" >1708.5509</td>\n",
              "                        <td id=\"T_db2f962a_0399_11eb_81d5_0242ac1c0002row20_col4\" class=\"data row20 col4\" >-0.0408</td>\n",
              "                        <td id=\"T_db2f962a_0399_11eb_81d5_0242ac1c0002row20_col5\" class=\"data row20 col5\" >1.0169</td>\n",
              "                        <td id=\"T_db2f962a_0399_11eb_81d5_0242ac1c0002row20_col6\" class=\"data row20 col6\" >1.7298</td>\n",
              "                        <td id=\"T_db2f962a_0399_11eb_81d5_0242ac1c0002row20_col7\" class=\"data row20 col7\" >4.0291</td>\n",
              "            </tr>\n",
              "            <tr>\n",
              "                        <th id=\"T_db2f962a_0399_11eb_81d5_0242ac1c0002level0_row21\" class=\"row_heading level0 row21\" >21</th>\n",
              "                        <td id=\"T_db2f962a_0399_11eb_81d5_0242ac1c0002row21_col0\" class=\"data row21 col0\" >Least Angle Regression</td>\n",
              "                        <td id=\"T_db2f962a_0399_11eb_81d5_0242ac1c0002row21_col1\" class=\"data row21 col1\" >2006955.8818</td>\n",
              "                        <td id=\"T_db2f962a_0399_11eb_81d5_0242ac1c0002row21_col2\" class=\"data row21 col2\" >80332203062651.0781</td>\n",
              "                        <td id=\"T_db2f962a_0399_11eb_81d5_0242ac1c0002row21_col3\" class=\"data row21 col3\" >3065447.3290</td>\n",
              "                        <td id=\"T_db2f962a_0399_11eb_81d5_0242ac1c0002row21_col4\" class=\"data row21 col4\" >-30583778.8728</td>\n",
              "                        <td id=\"T_db2f962a_0399_11eb_81d5_0242ac1c0002row21_col5\" class=\"data row21 col5\" >2.7190</td>\n",
              "                        <td id=\"T_db2f962a_0399_11eb_81d5_0242ac1c0002row21_col6\" class=\"data row21 col6\" >1973.3281</td>\n",
              "                        <td id=\"T_db2f962a_0399_11eb_81d5_0242ac1c0002row21_col7\" class=\"data row21 col7\" >0.0255</td>\n",
              "            </tr>\n",
              "    </tbody></table>"
            ],
            "text/plain": [
              "<pandas.io.formats.style.Styler at 0x7fc87b791048>"
            ]
          },
          "metadata": {
            "tags": []
          }
        },
        {
          "output_type": "execute_result",
          "data": {
            "text/plain": [
              "XGBRegressor(base_score=0.5, booster='gbtree', colsample_bylevel=1,\n",
              "             colsample_bynode=1, colsample_bytree=1, gamma=0,\n",
              "             importance_type='gain', learning_rate=0.1, max_delta_step=0,\n",
              "             max_depth=3, min_child_weight=1, missing=None, n_estimators=100,\n",
              "             n_jobs=-1, nthread=None, objective='reg:linear', random_state=703,\n",
              "             reg_alpha=0, reg_lambda=1, scale_pos_weight=1, seed=None,\n",
              "             silent=None, subsample=1, verbosity=0)"
            ]
          },
          "metadata": {
            "tags": []
          },
          "execution_count": 26
        }
      ]
    },
    {
      "cell_type": "code",
      "metadata": {
        "id": "1gc9n3aLj69_"
      },
      "source": [
        ""
      ],
      "execution_count": null,
      "outputs": []
    }
  ]
}